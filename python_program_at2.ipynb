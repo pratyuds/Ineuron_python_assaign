{
 "cells": [
  {
   "cell_type": "markdown",
   "id": "234cb504",
   "metadata": {},
   "source": [
    "# 1. Write a Python program to convert kilometers to miles?"
   ]
  },
  {
   "cell_type": "markdown",
   "id": "62ae2b64",
   "metadata": {},
   "source": [
    "for coverting kilometers to miles first we know about how may miles equal to 1 kilometer.\n",
    "\n",
    "##### 1 kilometer = 0.621371 miles\n",
    "\n",
    "    So , Formula is \n",
    "                kilometer * 1 mile value"
   ]
  },
  {
   "cell_type": "code",
   "execution_count": 6,
   "id": "0284f91d",
   "metadata": {},
   "outputs": [
    {
     "name": "stdout",
     "output_type": "stream",
     "text": [
      "Enter the value in kilometers : 20.4\n",
      "20.40 kilometers is equavalent to 12.68 miles\n"
     ]
    }
   ],
   "source": [
    "kilometer = float(input(\"Enter the value in kilometers : \"))\n",
    "# 1kilometer =  miles value\n",
    "converter = 0.621371 \n",
    "\n",
    "mile_cal = kilometer * converter\n",
    "\n",
    "print(\"%0.2f kilometers is equavalent to %0.2f miles\"%(kilometer,mile_cal))"
   ]
  },
  {
   "cell_type": "markdown",
   "id": "339b03fb",
   "metadata": {},
   "source": [
    "# 2. Write a Python program to convert Celsius to Fahrenheit?"
   ]
  },
  {
   "cell_type": "markdown",
   "id": "440671fd",
   "metadata": {},
   "source": [
    "for converting celsius to fahrenheit using below formula.\n",
    "\n",
    "### fahrenheit(f) = (celsius*9/5)+32\n",
    "\n",
    "from the above formula 9/5 is nothing but water boils at 100 c and 200 f\n",
    "\n",
    "    1. the scale raise at different level like (180/100) = 9/5\n",
    "    2. and 0 celsious = 32 fahrenheit\n",
    "    \n"
   ]
  },
  {
   "cell_type": "code",
   "execution_count": 8,
   "id": "e8cc10dd",
   "metadata": {},
   "outputs": [
    {
     "name": "stdout",
     "output_type": "stream",
     "text": [
      "enter your celsius value : 56.43\n",
      "56.43 degree celsius is equavalent to 133.57 fahrenheit \n"
     ]
    }
   ],
   "source": [
    "celsius = float(input(\"enter your celsius value : \"))\n",
    "\n",
    "# formula \n",
    "fahrenheit = (celsius*(9/5))+32\n",
    "print(\"%.2f degree celsius is equavalent to %.2f fahrenheit \"%(celsius,fahrenheit))"
   ]
  },
  {
   "cell_type": "markdown",
   "id": "54891e27",
   "metadata": {},
   "source": [
    "# 3. Write a Python program to display calendar?"
   ]
  },
  {
   "cell_type": "markdown",
   "id": "6c62ecfd",
   "metadata": {},
   "source": [
    "1. first we need to import datetime package for retriving the current year and current month\n",
    "2. from that datetime we can import date.\n"
   ]
  },
  {
   "cell_type": "code",
   "execution_count": 14,
   "id": "206aa1b2",
   "metadata": {},
   "outputs": [
    {
     "name": "stdout",
     "output_type": "stream",
     "text": [
      "2022-08-19\n",
      "2022\n",
      "8\n"
     ]
    }
   ],
   "source": [
    "from datetime import date\n",
    "\n",
    "today_date = date.today()\n",
    "print(today_date)\n",
    "current_year = today_date.year\n",
    "print(current_year)\n",
    "current_month  = today_date.month\n",
    "print(current_month)"
   ]
  },
  {
   "cell_type": "markdown",
   "id": "1dbecd03",
   "metadata": {},
   "source": [
    "Now we can able to easily print the calender of current year and current month\n",
    "\n",
    "    1. for that we need to import calendar module.\n",
    "    2. need to pass that current_year and curremt_month perameters to calendar function"
   ]
  },
  {
   "cell_type": "code",
   "execution_count": 18,
   "id": "c78eabc1",
   "metadata": {},
   "outputs": [
    {
     "name": "stdout",
     "output_type": "stream",
     "text": [
      "this current month calender is :\n",
      "      August 2022\n",
      "Mo Tu We Th Fr Sa Su\n",
      " 1  2  3  4  5  6  7\n",
      " 8  9 10 11 12 13 14\n",
      "15 16 17 18 19 20 21\n",
      "22 23 24 25 26 27 28\n",
      "29 30 31\n",
      "\n"
     ]
    }
   ],
   "source": [
    "import calendar\n",
    "\n",
    "print(\"this current month calender is :\\n \",calendar.month(current_year,current_month))"
   ]
  },
  {
   "cell_type": "markdown",
   "id": "6a804898",
   "metadata": {},
   "source": [
    "# 4. Write a Python program to solve quadratic equation?"
   ]
  },
  {
   "cell_type": "markdown",
   "id": "a7d5184f",
   "metadata": {},
   "source": [
    "1. for this quadratic equation first we need to import math  module\n",
    "2.from that import sqrt function"
   ]
  },
  {
   "cell_type": "code",
   "execution_count": 20,
   "id": "ce2fd04b",
   "metadata": {},
   "outputs": [],
   "source": [
    "from math import sqrt"
   ]
  },
  {
   "cell_type": "markdown",
   "id": "f91bdb8b",
   "metadata": {},
   "source": [
    "our quadratic equation formula is :\n",
    "\n",
    "    (a * x^2) + b*x + c\n",
    " \n",
    "now we can take the a,b,c inputs fro  the user"
   ]
  },
  {
   "cell_type": "code",
   "execution_count": 24,
   "id": "2a322f5c",
   "metadata": {},
   "outputs": [
    {
     "name": "stdout",
     "output_type": "stream",
     "text": [
      "enter the a value : 5\n",
      "enter the b value : 20\n",
      "enter the c value : 10\n"
     ]
    }
   ],
   "source": [
    "a = float(input(\"enter the a value : \"))\n",
    "b = float(input(\"enter the b value : \"))\n",
    "c = float(input(\"enter the c value : \"))\n"
   ]
  },
  {
   "cell_type": "markdown",
   "id": "cd1c9034",
   "metadata": {},
   "source": [
    "Then we need to calculate r value using below formula:\n",
    "####    b**2 - 4*a*c\n",
    "\n",
    "if r value is greater the or equal to 0:\n",
    "\n",
    "     it means there are two roots\n",
    "     \n",
    "if r value is equavalent to 0:\n",
    "\n",
    "     it means there are one root\n",
    "     \n",
    "if r less than equal to 0:\n",
    "\n",
    "    it means there is no roots ,dicriminent is less than 0"
   ]
  },
  {
   "cell_type": "code",
   "execution_count": 25,
   "id": "34202b57",
   "metadata": {},
   "outputs": [
    {
     "name": "stdout",
     "output_type": "stream",
     "text": [
      "there are 2 roots : -0.585786 and -3.414214 \n"
     ]
    }
   ],
   "source": [
    "r = b**2 - 4*a*c\n",
    "if r>0:\n",
    "    root_count =2\n",
    "    x1 = (((-b) + sqrt(r))/(2*a))     \n",
    "    x2 = (((-b) - sqrt(r))/(2*a))\n",
    "    print(\"there are 2 roots : %f and %f \"%(x1,x2))\n",
    "\n",
    "elif r==0:\n",
    "    root_count =1\n",
    "    x = (-b) / 2*a\n",
    "    print(\"there is one root : %f \"%(x))\n",
    "else:\n",
    "    root_count=0\n",
    "    print(\"no roots, discriminant < 0\")"
   ]
  },
  {
   "cell_type": "markdown",
   "id": "01785a7d",
   "metadata": {},
   "source": [
    "# 5. Write a Python program to swap two variables without temp variable?"
   ]
  },
  {
   "cell_type": "markdown",
   "id": "9aeca0a9",
   "metadata": {},
   "source": [
    "We can able to use swap the two variables with out temp variable using below way.\n",
    "\n"
   ]
  },
  {
   "cell_type": "code",
   "execution_count": 33,
   "id": "0c08caf2",
   "metadata": {},
   "outputs": [
    {
     "name": "stdout",
     "output_type": "stream",
     "text": [
      "enter x value : \n",
      "100\n",
      "enter y value : \n",
      "200\n",
      "before swap the x value is 100\n",
      "\n",
      "before swap the y value is 200\n",
      "\n",
      "after swap the x value is 200\n",
      "\n",
      "after swap the y value is 100\n"
     ]
    }
   ],
   "source": [
    "x = int(input(\"enter x value : \\n\"))\n",
    "y = int(input(\"enter y value : \\n\"))\n",
    "\n",
    "print(f\"before swap the x value is {x}\\n\")\n",
    "print(f\"before swap the y value is {y}\\n\")\n",
    "\n",
    "x,y = y,x\n",
    "\n",
    "print(f\"after swap the x value is {x}\\n\")\n",
    "print(f\"after swap the y value is {y}\")"
   ]
  },
  {
   "cell_type": "code",
   "execution_count": 35,
   "id": "c3bd0b3b",
   "metadata": {},
   "outputs": [
    {
     "name": "stdout",
     "output_type": "stream",
     "text": [
      "enter x value : \n",
      "pratyusha\n",
      "enter y value : \n",
      "chahit\n",
      "before swap the x value is 'pratyusha'\n",
      "\n",
      "before swap the y value is 'chahit'\n",
      "\n",
      "after swap the x value is 'chahit'\n",
      "\n",
      "after swap the y value is 'pratyusha'\n"
     ]
    }
   ],
   "source": [
    "x = input(\"enter x value : \\n\")\n",
    "y = input(\"enter y value : \\n\")\n",
    "\n",
    "print(f\"before swap the x value is '{x}'\\n\")\n",
    "print(f\"before swap the y value is '{y}'\\n\")\n",
    "\n",
    "x,y = y,x\n",
    "\n",
    "print(f\"after swap the x value is '{x}'\\n\")\n",
    "print(f\"after swap the y value is '{y}'\")"
   ]
  },
  {
   "cell_type": "code",
   "execution_count": null,
   "id": "dba8141f",
   "metadata": {},
   "outputs": [],
   "source": []
  }
 ],
 "metadata": {
  "kernelspec": {
   "display_name": "Python 3",
   "language": "python",
   "name": "python3"
  },
  "language_info": {
   "codemirror_mode": {
    "name": "ipython",
    "version": 3
   },
   "file_extension": ".py",
   "mimetype": "text/x-python",
   "name": "python",
   "nbconvert_exporter": "python",
   "pygments_lexer": "ipython3",
   "version": "3.8.8"
  }
 },
 "nbformat": 4,
 "nbformat_minor": 5
}
