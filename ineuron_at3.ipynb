{
 "cells": [
  {
   "cell_type": "markdown",
   "id": "c9be5cfb",
   "metadata": {},
   "source": [
    "# 1. Why are functions advantageous to have in your programs?"
   ]
  },
  {
   "cell_type": "markdown",
   "id": "736c3c13",
   "metadata": {},
   "source": [
    "1. Functions will help to reduce the larger code in to smaller code using functions\n",
    "2. And we can able to reduce the smaller code.\n",
    "3. If we define functions if any where we need means multiple places we can able to use those single time created functions.\n",
    "4. We can able to read and bebug the function code very faster and eaiser way.\n",
    "5. functions will reduce the future work for coming programmers.\n"
   ]
  },
  {
   "cell_type": "markdown",
   "id": "4b85cf2d",
   "metadata": {},
   "source": [
    "# 2. When does the code in a function run: when it's specified or when it's called?"
   ]
  },
  {
   "cell_type": "markdown",
   "id": "f622da21",
   "metadata": {},
   "source": [
    "Always we can able to run the function when it's called\n",
    "\n",
    "Example:\n",
    "    \n",
    "   "
   ]
  },
  {
   "cell_type": "code",
   "execution_count": 1,
   "id": "e8cb0298",
   "metadata": {},
   "outputs": [],
   "source": [
    "def myfunc(a,b):\n",
    "        c = a+b\n",
    "        return c\n",
    "# Note: here we are creted the function but it cannot give output."
   ]
  },
  {
   "cell_type": "code",
   "execution_count": 2,
   "id": "5715b3c9",
   "metadata": {},
   "outputs": [
    {
     "data": {
      "text/plain": [
       "30"
      ]
     },
     "execution_count": 2,
     "metadata": {},
     "output_type": "execute_result"
    }
   ],
   "source": [
    "# here we are calling the function then only it will run and gives the response\n",
    "myfunc(10,20)\n"
   ]
  },
  {
   "cell_type": "markdown",
   "id": "b2c5005f",
   "metadata": {},
   "source": [
    "# 3. What statement creates a function?"
   ]
  },
  {
   "cell_type": "markdown",
   "id": "fe2524d0",
   "metadata": {},
   "source": [
    "1. In python we are using (def) keyword for creating the function\n",
    "2. it having name of that function and it's follwed by parentheses ()\n",
    "\n",
    "Example:"
   ]
  },
  {
   "cell_type": "code",
   "execution_count": 3,
   "id": "35ea02c7",
   "metadata": {},
   "outputs": [],
   "source": [
    "def myfunc(a,b):\n",
    "        c = a+b\n",
    "        return c"
   ]
  },
  {
   "cell_type": "markdown",
   "id": "3164867d",
   "metadata": {},
   "source": [
    "# 4. What is the difference between a function and a function call?"
   ]
  },
  {
   "cell_type": "markdown",
   "id": "7df73e9b",
   "metadata": {},
   "source": [
    "Function:\n",
    "    \n",
    "   1. With in the def function we can define some logic relavent to use case.\n",
    "   2. Here, just we can define the logic of inside function.\n",
    "   3. Perameters are optional based on the use case\n",
    "\n",
    "Function call:\n",
    "\n",
    "   1. When ever we called that function then it moves to defined function and evalute the inside defined function code\n",
    "      then it will return the valid response from that function"
   ]
  },
  {
   "cell_type": "code",
   "execution_count": 4,
   "id": "9251b003",
   "metadata": {},
   "outputs": [],
   "source": [
    "# this is function\n",
    "def myfunc(a,b):\n",
    "        c = b/a\n",
    "        return c"
   ]
  },
  {
   "cell_type": "code",
   "execution_count": 5,
   "id": "916fa20b",
   "metadata": {},
   "outputs": [
    {
     "data": {
      "text/plain": [
       "2.0"
      ]
     },
     "execution_count": 5,
     "metadata": {},
     "output_type": "execute_result"
    }
   ],
   "source": [
    "# this is function call\n",
    "myfunc(10,20)\n"
   ]
  },
  {
   "cell_type": "markdown",
   "id": "81f8ef09",
   "metadata": {},
   "source": [
    "# 5. How many global scopes are there in a Python program? How many local scopes?"
   ]
  },
  {
   "cell_type": "markdown",
   "id": "2ed0765b",
   "metadata": {},
   "source": [
    "Global Scope:\n",
    "\n",
    "     1. We have only one global scope.\n",
    "     \n",
    "     2. What ever we defined in global scope we can able to use any where means inside function and out side function also\n",
    "     \n",
    " Example:"
   ]
  },
  {
   "cell_type": "code",
   "execution_count": 6,
   "id": "ecc22774",
   "metadata": {},
   "outputs": [],
   "source": [
    "myvar = 10\n",
    "def abc():\n",
    "    return myvar"
   ]
  },
  {
   "cell_type": "code",
   "execution_count": 7,
   "id": "528e5e89",
   "metadata": {},
   "outputs": [
    {
     "data": {
      "text/plain": [
       "10"
      ]
     },
     "execution_count": 7,
     "metadata": {},
     "output_type": "execute_result"
    }
   ],
   "source": [
    "abc()"
   ]
  },
  {
   "cell_type": "code",
   "execution_count": 8,
   "id": "741fd168",
   "metadata": {},
   "outputs": [],
   "source": [
    "def myabc():\n",
    "    return myvar"
   ]
  },
  {
   "cell_type": "code",
   "execution_count": 9,
   "id": "ce257ae2",
   "metadata": {},
   "outputs": [
    {
     "data": {
      "text/plain": [
       "10"
      ]
     },
     "execution_count": 9,
     "metadata": {},
     "output_type": "execute_result"
    }
   ],
   "source": [
    "myabc()"
   ]
  },
  {
   "cell_type": "markdown",
   "id": "51074647",
   "metadata": {},
   "source": [
    "Local scope:\n",
    "    \n",
    "    1. we have only one local scope\n",
    "    \n",
    "    2. what ever we defined local scope we acn able to use inside that function only \n",
    "\n",
    "Example:"
   ]
  },
  {
   "cell_type": "code",
   "execution_count": 10,
   "id": "5386bd29",
   "metadata": {},
   "outputs": [],
   "source": [
    "def abc():\n",
    "    var1 = 20\n",
    "    return myvar,var1"
   ]
  },
  {
   "cell_type": "markdown",
   "id": "296d1c4a",
   "metadata": {},
   "source": [
    "Here myvar is global scope any where we can use, var1 is local scope one in side function we can use"
   ]
  },
  {
   "cell_type": "code",
   "execution_count": 11,
   "id": "2a76932a",
   "metadata": {},
   "outputs": [
    {
     "data": {
      "text/plain": [
       "(10, 20)"
      ]
     },
     "execution_count": 11,
     "metadata": {},
     "output_type": "execute_result"
    }
   ],
   "source": [
    "abc() "
   ]
  },
  {
   "cell_type": "markdown",
   "id": "799c6ca6",
   "metadata": {},
   "source": [
    "# 6. What happens to variables in a local scope when the function call returns?"
   ]
  },
  {
   "cell_type": "markdown",
   "id": "ee95af7d",
   "metadata": {},
   "source": [
    "1. Local scope will destroy once function returned or terminated.\n",
    "2. If we try to call that local scope it will return the error\n",
    "\n",
    "Example:\n"
   ]
  },
  {
   "cell_type": "code",
   "execution_count": 12,
   "id": "58b8943e",
   "metadata": {},
   "outputs": [
    {
     "data": {
      "text/plain": [
       "'Data Science'"
      ]
     },
     "execution_count": 12,
     "metadata": {},
     "output_type": "execute_result"
    }
   ],
   "source": [
    "def abc():\n",
    "    name =  \"Data Science\"\n",
    "    return name\n",
    "\n",
    "abc() "
   ]
  },
  {
   "cell_type": "markdown",
   "id": "7bde5197",
   "metadata": {},
   "source": [
    "from the above funtion it's working fine why becase we calling the function and it's \n",
    "returning the local scope perameter name : datascience"
   ]
  },
  {
   "cell_type": "markdown",
   "id": "fac4acf9",
   "metadata": {},
   "source": [
    "but while we are trying to print that local scope out side function it will give the error."
   ]
  },
  {
   "cell_type": "code",
   "execution_count": 13,
   "id": "bbc2fa28",
   "metadata": {},
   "outputs": [
    {
     "ename": "NameError",
     "evalue": "name 'name' is not defined",
     "output_type": "error",
     "traceback": [
      "\u001b[1;31m---------------------------------------------------------------------------\u001b[0m",
      "\u001b[1;31mNameError\u001b[0m                                 Traceback (most recent call last)",
      "\u001b[1;32m<ipython-input-13-a8d7e2c4b3c6>\u001b[0m in \u001b[0;36m<module>\u001b[1;34m\u001b[0m\n\u001b[1;32m----> 1\u001b[1;33m \u001b[0mprint\u001b[0m\u001b[1;33m(\u001b[0m\u001b[0mname\u001b[0m\u001b[1;33m)\u001b[0m \u001b[1;31m# here it retrun the error why becasue name is a loacl scope variable\u001b[0m\u001b[1;33m\u001b[0m\u001b[1;33m\u001b[0m\u001b[0m\n\u001b[0m",
      "\u001b[1;31mNameError\u001b[0m: name 'name' is not defined"
     ]
    }
   ],
   "source": [
    "print(name) # here it retrun the error why becasue name is a loacl scope variable"
   ]
  },
  {
   "cell_type": "markdown",
   "id": "e0441f2d",
   "metadata": {},
   "source": [
    "# 7. What is the concept of a return value? Is it possible to have a return value in an expression?"
   ]
  },
  {
   "cell_type": "markdown",
   "id": "60579b36",
   "metadata": {},
   "source": [
    "1. return statement is used in the end of the function.\n",
    "2. it returns the evaluated resposnse through expression to user.\n",
    "3. if we wrote any code after return statement that code will not execute.\n",
    "4. if we wrote with out perameters with return it gives None result.\n",
    "\n",
    "Example:"
   ]
  },
  {
   "cell_type": "code",
   "execution_count": 14,
   "id": "b3d4afd8",
   "metadata": {},
   "outputs": [
    {
     "data": {
      "text/plain": [
       "-10"
      ]
     },
     "execution_count": 14,
     "metadata": {},
     "output_type": "execute_result"
    }
   ],
   "source": [
    "def myfunc(a,b):\n",
    "        c = a-b\n",
    "        return c # With expression in return\n",
    "    \n",
    "myfunc(10,20)"
   ]
  },
  {
   "cell_type": "code",
   "execution_count": 15,
   "id": "abf32d6d",
   "metadata": {},
   "outputs": [],
   "source": [
    "def myfunc(a,b):\n",
    "        c = a-b\n",
    "        return  # Without expression in return\n",
    "    \n",
    "myfunc(10,20)"
   ]
  },
  {
   "cell_type": "markdown",
   "id": "f1c1654d",
   "metadata": {},
   "source": [
    "# 8. If a function does not have a return statement, what is the return value of a call to that function?"
   ]
  },
  {
   "cell_type": "markdown",
   "id": "8b33b714",
   "metadata": {},
   "source": [
    "1. If no return statement inside function , it will return None means it will not give response while calling the function.\n",
    "\n",
    "Example :"
   ]
  },
  {
   "cell_type": "code",
   "execution_count": 16,
   "id": "249e246d",
   "metadata": {},
   "outputs": [],
   "source": [
    "def myfunc(a,b):\n",
    "        c = a*b\n",
    "    \n",
    "myfunc(10,20) # Without return statement it returns None means it doesn't give result\n"
   ]
  },
  {
   "cell_type": "markdown",
   "id": "79d8f295",
   "metadata": {},
   "source": [
    "# 9. How do you make a function variable refer to the global variable?"
   ]
  },
  {
   "cell_type": "markdown",
   "id": "1eeef0f2",
   "metadata": {},
   "source": [
    "1. if we want to declare a globla variable inside function before the defining variable we can write global keyword.\n",
    "2. Then that variable python will consider as a global variable\n",
    "\n",
    "Example:"
   ]
  },
  {
   "cell_type": "code",
   "execution_count": 17,
   "id": "92127c91",
   "metadata": {},
   "outputs": [
    {
     "data": {
      "text/plain": [
       "10"
      ]
     },
     "execution_count": 17,
     "metadata": {},
     "output_type": "execute_result"
    }
   ],
   "source": [
    "def myfunc():\n",
    "    global a\n",
    "    a =10\n",
    "    return a\n",
    "\n",
    "myfunc()"
   ]
  },
  {
   "cell_type": "markdown",
   "id": "4aa12f29",
   "metadata": {},
   "source": [
    "1. with the below statement we can able to retrive the variable a with out calling function why because \n",
    "   we defined that variable as a global variable.\n",
    "2. if we define that global variable inside function we can use any where means outside of the function also with out calling      function."
   ]
  },
  {
   "cell_type": "code",
   "execution_count": 18,
   "id": "02b2fc5a",
   "metadata": {},
   "outputs": [
    {
     "name": "stdout",
     "output_type": "stream",
     "text": [
      "10\n"
     ]
    }
   ],
   "source": [
    "print(a) "
   ]
  },
  {
   "cell_type": "markdown",
   "id": "ba827fcd",
   "metadata": {},
   "source": [
    "# 10. What is the data type of None?"
   ]
  },
  {
   "cell_type": "markdown",
   "id": "b14c176e",
   "metadata": {},
   "source": [
    "1. None means None Type.\n",
    "2. None key word is used for define a null value.\n",
    "3. it is not 0 just empty string.\n",
    "\n",
    "Example:"
   ]
  },
  {
   "cell_type": "code",
   "execution_count": 19,
   "id": "49758a46",
   "metadata": {},
   "outputs": [],
   "source": [
    "def abc():\n",
    "    var1 = None\n",
    "    return var1"
   ]
  },
  {
   "cell_type": "code",
   "execution_count": 20,
   "id": "bed252ae",
   "metadata": {},
   "outputs": [],
   "source": [
    "abc()"
   ]
  },
  {
   "cell_type": "markdown",
   "id": "c1ccb435",
   "metadata": {},
   "source": [
    "# 11. What does the sentence import areallyourpetsnamederic do?"
   ]
  },
  {
   "cell_type": "markdown",
   "id": "43c79f9c",
   "metadata": {},
   "source": [
    "1. areallyourpetsnamederic - this is not a python module.\n",
    "2. It will thorugh the error like - ( No module named 'areallyourpetsnamederic')\n",
    "\n",
    "Example:\n",
    "    "
   ]
  },
  {
   "cell_type": "code",
   "execution_count": 21,
   "id": "d543e197",
   "metadata": {},
   "outputs": [
    {
     "ename": "ModuleNotFoundError",
     "evalue": "No module named 'areallyourpetsnamederic'",
     "output_type": "error",
     "traceback": [
      "\u001b[1;31m---------------------------------------------------------------------------\u001b[0m",
      "\u001b[1;31mModuleNotFoundError\u001b[0m                       Traceback (most recent call last)",
      "\u001b[1;32m<ipython-input-21-b1ea9cb2228f>\u001b[0m in \u001b[0;36m<module>\u001b[1;34m\u001b[0m\n\u001b[1;32m----> 1\u001b[1;33m \u001b[1;32mimport\u001b[0m \u001b[0mareallyourpetsnamederic\u001b[0m\u001b[1;33m\u001b[0m\u001b[1;33m\u001b[0m\u001b[0m\n\u001b[0m",
      "\u001b[1;31mModuleNotFoundError\u001b[0m: No module named 'areallyourpetsnamederic'"
     ]
    }
   ],
   "source": [
    "import areallyourpetsnamederic"
   ]
  },
  {
   "cell_type": "markdown",
   "id": "034db69f",
   "metadata": {},
   "source": [
    "# 12. If you had a bacon() feature in a spam module, what would you call it after importing spam?"
   ]
  },
  {
   "cell_type": "markdown",
   "id": "bc71a473",
   "metadata": {},
   "source": [
    "we can call it like below -\n",
    "\n",
    "     spam.bacon()"
   ]
  },
  {
   "cell_type": "markdown",
   "id": "667d040f",
   "metadata": {},
   "source": [
    "# 13. What can you do to save a programme from crashing if it encounters an error?"
   ]
  },
  {
   "cell_type": "markdown",
   "id": "35fa4b30",
   "metadata": {},
   "source": [
    "1. for saving a program from crashing we can use try and except blocks.\n",
    "\n",
    "2. try :\n",
    "    1. it is used for keep a block of code.\n",
    "    2. if throws an error and that error directly jumps into except block with out crashing a program.\n",
    "3. except:\n",
    "    1. it is used for handling the errors .\n",
    "    2. if we have any errors in try block except block will catch the error instead of crashing.\n",
    "    \n",
    "Example: (for without crashing)"
   ]
  },
  {
   "cell_type": "markdown",
   "id": "9b5d7900",
   "metadata": {},
   "source": [
    "## the below one with out error and with out crash"
   ]
  },
  {
   "cell_type": "code",
   "execution_count": 22,
   "id": "2e538e1e",
   "metadata": {},
   "outputs": [
    {
     "name": "stdout",
     "output_type": "stream",
     "text": [
      "enter a value: 20\n",
      "enter b value : 10\n",
      "2.0\n"
     ]
    }
   ],
   "source": [
    "a = int(input(\"enter a value: \"))\n",
    "b = int(input(\"enter b value : \"))\n",
    "try:\n",
    "    c = a/b\n",
    "    print(c)\n",
    "except Exception as e:\n",
    "    print(e)"
   ]
  },
  {
   "cell_type": "markdown",
   "id": "4bb3769b",
   "metadata": {},
   "source": [
    "## the below one with error but without crashing"
   ]
  },
  {
   "cell_type": "code",
   "execution_count": 23,
   "id": "2cc71247",
   "metadata": {},
   "outputs": [
    {
     "name": "stdout",
     "output_type": "stream",
     "text": [
      "enter a value: 20\n",
      "enter b value : 0\n",
      "division by zero\n"
     ]
    }
   ],
   "source": [
    "a = int(input(\"enter a value: \"))\n",
    "b = int(input(\"enter b value : \"))\n",
    "try:\n",
    "    c = a/b\n",
    "    print(c)\n",
    "except Exception as e: # zero division error is handled by except block with out crashing block of code \n",
    "    print(e)"
   ]
  },
  {
   "cell_type": "markdown",
   "id": "7baab533",
   "metadata": {},
   "source": [
    "# 14. What is the purpose of the try clause? What is the purpose of the except clause?"
   ]
  },
  {
   "cell_type": "markdown",
   "id": "b750f65e",
   "metadata": {},
   "source": [
    "TRY:\n",
    "\n",
    "    1. try block is used for write a block of code what ever we need for user response.\n",
    "    \n",
    "    2. when ever we excuted the program first it will enter into the try block take the input and excute the block of        statement.\n",
    "    \n",
    "    3. and it will return the response to user if we don't have any errors.\n",
    "    \n",
    "    4. if we have any errors those errors will through to except block with out crashing a program.\n",
    "    \n",
    "    5. it will save our program or blok of code from crashing.\n",
    "    \n",
    "EXCEPT:\n",
    "\n",
    "    1. if any errors will occure like -\n",
    "    \n",
    "        1. type error,\n",
    "        2. Zero division error,\n",
    "        3. user defined exception error,\n",
    "        4. Name error,\n",
    "        5. Value error,\n",
    "        6. Runtime error,\n",
    "        7. OS error etc...\n",
    "        \n",
    "    2. except block will handled all type errors while run time with put crashing our program or block of code from try block.\n",
    "    \n",
    "Example:\n",
    "    "
   ]
  },
  {
   "cell_type": "code",
   "execution_count": 24,
   "id": "310bfe88",
   "metadata": {},
   "outputs": [
    {
     "name": "stdout",
     "output_type": "stream",
     "text": [
      "enter a valid number : 100\n",
      "value is too large\n"
     ]
    }
   ],
   "source": [
    "# example for user define error\n",
    "\n",
    "class toolargeError(Exception):\n",
    "    pass\n",
    "\n",
    "class toosmallError(Exception):\n",
    "    pass\n",
    "\n",
    "a = int(input(\"enter a valid number : \"))\n",
    "n = 50\n",
    "try:\n",
    "    if a>n:\n",
    "        raise toolargeError(\"value is too large\")\n",
    "    if a<n:\n",
    "        raise toosmallError(\"value is too small\")\n",
    "    else:\n",
    "        print(\"value is correct :\", a)\n",
    "    \n",
    "except toolargeError as e:\n",
    "        print(e)\n",
    "except toosmallError as e1:\n",
    "        print(e1)\n"
   ]
  },
  {
   "cell_type": "code",
   "execution_count": 25,
   "id": "f06b684d",
   "metadata": {},
   "outputs": [
    {
     "name": "stdout",
     "output_type": "stream",
     "text": [
      "enter a valid number : 10\n",
      "value is too small\n"
     ]
    }
   ],
   "source": [
    "# example for user define error\n",
    "\n",
    "class toolargeError(Exception):\n",
    "    pass\n",
    "\n",
    "class toosmallError(Exception):\n",
    "    pass\n",
    "\n",
    "a = int(input(\"enter a valid number : \"))\n",
    "n = 50\n",
    "try:\n",
    "    if a>n:\n",
    "        raise toolargeError(\"value is too large\")\n",
    "    if a<n:\n",
    "        raise toosmallError(\"value is too small\")\n",
    "    else:\n",
    "        print(\"value is correct :\", a)\n",
    "    \n",
    "except toolargeError as e:\n",
    "        print(e)\n",
    "except toosmallError as e1:\n",
    "        print(e1)\n"
   ]
  },
  {
   "cell_type": "code",
   "execution_count": 26,
   "id": "f915555b",
   "metadata": {},
   "outputs": [
    {
     "name": "stdout",
     "output_type": "stream",
     "text": [
      "enter a valid number : 50\n",
      "value is correct : 50\n"
     ]
    }
   ],
   "source": [
    "# example for user define error\n",
    "\n",
    "class toolargeError(Exception):\n",
    "    pass\n",
    "\n",
    "class toosmallError(Exception):\n",
    "    pass\n",
    "\n",
    "a = int(input(\"enter a valid number : \"))\n",
    "n = 50\n",
    "try:\n",
    "    if a>n:\n",
    "        raise toolargeError(\"value is too large\")\n",
    "    if a<n:\n",
    "        raise toosmallError(\"value is too small\")\n",
    "    else:\n",
    "        print(\"value is correct :\", a)\n",
    "    \n",
    "except toolargeError as e:\n",
    "        print(e)\n",
    "except toosmallError as e1:\n",
    "        print(e1)\n"
   ]
  },
  {
   "cell_type": "code",
   "execution_count": null,
   "id": "f57dbc49",
   "metadata": {},
   "outputs": [],
   "source": []
  }
 ],
 "metadata": {
  "kernelspec": {
   "display_name": "Python 3",
   "language": "python",
   "name": "python3"
  },
  "language_info": {
   "codemirror_mode": {
    "name": "ipython",
    "version": 3
   },
   "file_extension": ".py",
   "mimetype": "text/x-python",
   "name": "python",
   "nbconvert_exporter": "python",
   "pygments_lexer": "ipython3",
   "version": "3.8.8"
  }
 },
 "nbformat": 4,
 "nbformat_minor": 5
}
