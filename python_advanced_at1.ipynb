{
 "cells": [
  {
   "cell_type": "markdown",
   "id": "10e78e3c",
   "metadata": {},
   "source": [
    "# Q1. What is the purpose of Python's OOP?"
   ]
  },
  {
   "cell_type": "markdown",
   "id": "17c35807",
   "metadata": {},
   "source": [
    "1. Basically , python is a multi purpose language.\n",
    "\n",
    "2. from that oop's is nothing but it is an object oriented programming.\n",
    "\n",
    "3. it is one of the way to write  a pattren of code in a propper manner using classes and objects.\n",
    "\n",
    "4. it is used for reducing the duplicate code. It means where ever we are using the same code in multiple places \n",
    "    in that we can use simply a class\n",
    "    \n",
    "5. Here, we can able to use classes and objects.\n",
    "\n",
    "###  class - \n",
    "        1. It is nothing but it's blue print or it is an entity \n",
    "            which is existed in our plannet or real word entity or senses of an entity.\n",
    "        2. it is nothing but simply classification or segementaion  of an real world entity\n",
    "        \n",
    "        Ex: 1. super market\n",
    "            2. human\n",
    "            3. online shopping carts\n",
    "            4. movies\n",
    "### objects - \n",
    "            objects are realword entity perameters  or functions or methods those are we can call with the help of class name.\n",
    "            \n",
    "            Ex: 1. database type\n",
    "                2. car type\n",
    "                3. house type\n",
    "            \n",
    "            \n",
    "### purprose of oop's:\n",
    "    \n",
    "    1. if we are developing some software or pipeline or automate some process. --> \n",
    "    \n",
    "          1. we have some different blocks are there.\n",
    "          \n",
    "          2. in that situation we need to write million of lines code that's why need to maintain in a \n",
    "             propper structure for easy understanding and also in future comming developers can able to \n",
    "             understand the code and pipeline, then based on updated requirement they will able to modify the code easily. \n",
    "    \n",
    "    \n",
    "### Example :"
   ]
  },
  {
   "cell_type": "code",
   "execution_count": 1,
   "id": "3a626b03",
   "metadata": {},
   "outputs": [],
   "source": [
    "class online_shoppingcart:\n",
    "    \n",
    "    def mens(self):\n",
    "        print(\"This is mens cloths section\")\n",
    "    def womens(self):\n",
    "        print(\"This is womens cloths section\")\n",
    "    def kids(self):\n",
    "        print(\"This is kids toys section\")\n"
   ]
  },
  {
   "cell_type": "code",
   "execution_count": 2,
   "id": "5f7bd78e",
   "metadata": {},
   "outputs": [
    {
     "name": "stdout",
     "output_type": "stream",
     "text": [
      "This is mens cloths section\n",
      "This is womens cloths section\n",
      "This is kids toys section\n"
     ]
    }
   ],
   "source": [
    "online = online_shoppingcart()\n",
    "online.mens()\n",
    "online.womens()\n",
    "online.kids()"
   ]
  },
  {
   "cell_type": "markdown",
   "id": "b4370851",
   "metadata": {},
   "source": [
    "# Q2. Where does an inheritance search look for an attribute?"
   ]
  },
  {
   "cell_type": "markdown",
   "id": "f0427d88",
   "metadata": {},
   "source": [
    "1. Always inheritence search the attributes from the superior class or from  parent class .\n",
    "\n",
    "2. it will extract the attributes or behaviour of superior class or parent class to current class or child class.\n",
    "\n",
    "### Example:\n",
    "\n",
    "   1. from the below example in tata class we are extracting milage function or attribute or object from superior class car."
   ]
  },
  {
   "cell_type": "code",
   "execution_count": 3,
   "id": "f032e728",
   "metadata": {},
   "outputs": [
    {
     "name": "stdout",
     "output_type": "stream",
     "text": [
      "milage of car is 100\n",
      "milage of car is 200\n"
     ]
    }
   ],
   "source": [
    "class car:\n",
    "    \n",
    "    def milage(self,milage):\n",
    "        print(f\"milage of car is {milage}\")\n",
    "        \n",
    "c = car()\n",
    "c.milage(100)\n",
    "\n",
    "class tata(car):\n",
    "    pass\n",
    "\n",
    "tat = tata()\n",
    "tat.milage(200)\n"
   ]
  },
  {
   "cell_type": "markdown",
   "id": "0d356d18",
   "metadata": {},
   "source": [
    "# Q3. How do you distinguish between a class object and an instance object?"
   ]
  },
  {
   "cell_type": "markdown",
   "id": "7b4d8227",
   "metadata": {},
   "source": [
    "### Class object:\n",
    "    \n",
    "    1. class object is nothing but behavior of a class or feature of a class.\n",
    "    2. all features and behaviours we can able to give same or in some situations we can able to give different.\n",
    "    3. those are called objects. \n",
    "    4. it will create the memory of each object.\n",
    "    \n",
    "###      Example:\n",
    "         1. person is a class\n",
    "         2. male is an object\n",
    "         3. all males are having some common features and behaviours\n",
    "###            1. features - \n",
    "                    1. eyes\n",
    "                    2. nose\n",
    "                    3. hands\n",
    "                    4. legs    etc..\n",
    "###            2. behaviour - \n",
    "                    1. he can run\n",
    "                    2. he can walk\n",
    "                    3. he can eat\n",
    "                    4. he can sit\n",
    "                    5. he can sleep   etc..\n",
    "                \n",
    "\n",
    "### Instance object:\n",
    "    \n",
    "    1. instace object is nothing but give an unique identity of an object or reference of an object.\n",
    "    2. why because from the above examples all mens having same features and same behaviour almost.\n",
    "    3. for instant identical purpose we can assain some name for each person.\n",
    "    4. here name is an instace of that particular object\n",
    "    \n",
    "    \n",
    "### Example:\n"
   ]
  },
  {
   "cell_type": "code",
   "execution_count": 4,
   "id": "b7265378",
   "metadata": {},
   "outputs": [
    {
     "name": "stdout",
     "output_type": "stream",
     "text": [
      "my name is Chahit, my feature is eyes and my behaviour is run\n",
      "my name is Naveen, my feature is eyes and my behaviour is walk\n"
     ]
    }
   ],
   "source": [
    "class person:\n",
    "    \n",
    "    def __init__(self, name, feature, behaviour):\n",
    "        self.name = name\n",
    "        self.feature = feature\n",
    "        self.behaviour = behaviour\n",
    "    \n",
    "    def male(self):\n",
    "        print(f\"my name is {self.name}, my feature is {self.feature} and my behaviour is {self.behaviour}\")\n",
    "        \n",
    "\n",
    "chahit = person('Chahit','eyes','run')\n",
    "nav = person(\"Naveen\",'eyes','walk')\n",
    "chahit.male()\n",
    "nav.male()"
   ]
  },
  {
   "cell_type": "markdown",
   "id": "c2d2835b",
   "metadata": {},
   "source": [
    "### Explination:\n",
    "\n",
    "    1. from the above example person is a class object\n",
    "    2. chahit and nav are the instance objects of that particular class object\n",
    "                1. chahit having different identity\n",
    "                2. nav having different identity\n",
    "                3. both are having same class object"
   ]
  },
  {
   "cell_type": "markdown",
   "id": "471e9092",
   "metadata": {},
   "source": [
    "# Q4. What makes the first argument in a class’s method function special?"
   ]
  },
  {
   "cell_type": "markdown",
   "id": "6d550b2e",
   "metadata": {},
   "source": [
    "In every class method including constructor __init__ we have one first argument is there - thai is \n",
    "\n",
    "        1. self\n",
    "\n",
    "## self :\n",
    "        1. self is used for representation of instance class\n",
    "        2. we can able to access all the attributes and methods of the class using self\n",
    "        3. self is pointing all ways current object.\n",
    "        4. in the self place we can able to give any keyword or name any thing we can give ,\n",
    "            what ever the name we have in constructure or first position ,python always consider \n",
    "            that one as behavour of self.\n",
    "        5. this is the extra feature we have in python.\n",
    "        6. if we missed that self , we will get error.\n",
    "        \n",
    "Example :\n",
    "    \n",
    "###   1. with self"
   ]
  },
  {
   "cell_type": "code",
   "execution_count": 5,
   "id": "80383770",
   "metadata": {},
   "outputs": [
    {
     "name": "stdout",
     "output_type": "stream",
     "text": [
      "my car model is : tayota\n",
      "my car color is : red\n",
      "my car model is : audi\n",
      "my car color is : blue\n"
     ]
    }
   ],
   "source": [
    "class car:\n",
    "    def __init__(self,model,color):\n",
    "        self.model =model\n",
    "        self.color = color\n",
    "        \n",
    "    def mycar(self):\n",
    "        print(f\"my car model is : {self.model}\")\n",
    "        print(f\"my car color is : {self.color}\")\n",
    "    \n",
    "        \n",
    "own = car('tayota',\"red\")\n",
    "own1 = car('audi', \"blue\")\n",
    "\n",
    "own.mycar()\n",
    "own1.mycar()"
   ]
  },
  {
   "cell_type": "markdown",
   "id": "41541053",
   "metadata": {},
   "source": [
    "### 2. with out self - with another key word like self"
   ]
  },
  {
   "cell_type": "code",
   "execution_count": 6,
   "id": "5e644523",
   "metadata": {},
   "outputs": [
    {
     "name": "stdout",
     "output_type": "stream",
     "text": [
      "my car model is : tayota\n",
      "my car color is : red\n",
      "my car model is : audi\n",
      "my car color is : blue\n"
     ]
    }
   ],
   "source": [
    "class car:\n",
    "    def __init__(usha,model,color):\n",
    "        usha.model =model\n",
    "        usha.color = color\n",
    "        \n",
    "    def mycar(usha):\n",
    "        print(f\"my car model is : {usha.model}\")\n",
    "        print(f\"my car color is : {usha.color}\")\n",
    "        \n",
    "own = car('tayota',\"red\")\n",
    "own1 = car('audi', \"blue\")\n",
    "\n",
    "own.mycar()\n",
    "own1.mycar()"
   ]
  },
  {
   "cell_type": "markdown",
   "id": "425c57d3",
   "metadata": {},
   "source": [
    "# Q5. What is the purpose of the \\__init__ method?"
   ]
  },
  {
   "cell_type": "markdown",
   "id": "4adcc1df",
   "metadata": {},
   "source": [
    "## \\__init__\n",
    "    \n",
    "    1. we can called __init__ is a constructure.\n",
    "    2. when ever we created an object from a class and it allows the class to initialize the attributes of that class.\n",
    "    3.__init__ method initialized with in the class, this is always excuted when the class is initiated\n",
    "    4. like methods a constructer also containes a collection of statements.\n",
    "    \n",
    "### Example :"
   ]
  },
  {
   "cell_type": "code",
   "execution_count": 7,
   "id": "e6478254",
   "metadata": {},
   "outputs": [
    {
     "name": "stdout",
     "output_type": "stream",
     "text": [
      "my name is 'ajit' and my id is 10\n",
      "my name is 'biju' and my id is 20\n",
      "my name is 'amit' and my id is 30\n"
     ]
    }
   ],
   "source": [
    "class person:\n",
    "    # here in the below __init__ method we are intialalizing the attributes\n",
    "    def __init__(self,name,id):\n",
    "        self.name = name\n",
    "        self.id =id\n",
    "    \n",
    "    def detail(self):\n",
    "        print(f\"my name is '{self.name}' and my id is {self.id}\")\n",
    "        \n",
    "# when ever we are calling that person class what ever the attributed intiated in __init__ those are called each and evry time\n",
    "person1 = person('ajit',10)\n",
    "person2 = person('biju',20)\n",
    "person3 = person('amit',30)\n",
    "person1.detail()\n",
    "person2.detail()\n",
    "person3.detail()\n"
   ]
  },
  {
   "cell_type": "markdown",
   "id": "dae12841",
   "metadata": {},
   "source": [
    "# Q6. What is the process for creating a class instance?"
   ]
  },
  {
   "cell_type": "markdown",
   "id": "dc474f6c",
   "metadata": {},
   "source": [
    "After creating the class and all the methods\n",
    "\n",
    "    - we need to call the class with instance name and then only we can able to call the class methods using that instance name.\n",
    "    - if we have any attributes inside __init__ in class we can pass those attributes with class while creating tha instace.\n",
    "    - other wise we will get an error.\n",
    "    \n",
    "### Example:"
   ]
  },
  {
   "cell_type": "code",
   "execution_count": 8,
   "id": "41bd41ea",
   "metadata": {},
   "outputs": [
    {
     "name": "stdout",
     "output_type": "stream",
     "text": [
      "employee name is 'amith' and employee id is '10' and employee salary is '1000'\n",
      "employee name is 'biju' and employee id is '20' and employee salary is '2000'\n",
      "employee name is 'pratyusha' and employee id is '30' and employee salary is '3000'\n"
     ]
    }
   ],
   "source": [
    "class employee:\n",
    "    \n",
    "    def __init__(self,emp_name,emp_id,emp_salary):\n",
    "        self.emp_name = emp_name\n",
    "        self.emp_id = emp_id\n",
    "        self.emp_salary = emp_salary\n",
    "        \n",
    "    def emp_details(self):\n",
    "        print(f\"employee name is '{self.emp_name}' and employee id is '{self.emp_id}' and employee salary is '{self.emp_salary}'\")\n",
    "\n",
    "\"\"\"here emp1 is the instance of employee class. we are creating the instace and assaigning the __init__ attribute values \n",
    "while calling the class\"\"\"\n",
    "\n",
    "emp1 = employee(\"amith\",10,1000)\n",
    "\n",
    "\"\"\"here emp2 is the instance of employee class. we are creating the instace andassaigning the __init__ attribute values \n",
    "while calling the class\"\"\"\n",
    "\n",
    "emp2 = employee(\"biju\",20,2000)\n",
    "\n",
    "\"\"\"here we are calling the instance with class method. \n",
    "we created two instances like emp1 and emp2 with the same class and different value attributes\"\"\"\n",
    "\n",
    "emp1.emp_details()\n",
    "\n",
    "emp2.emp_details()\n",
    "\n",
    "\"\"\"and we can able to modify the class attribute values using instance also\"\"\"\n",
    "emp1.emp_name = \"pratyusha\"\n",
    "emp1.emp_id = 30\n",
    "emp1.emp_salary=3000\n",
    "emp1.emp_details()\n"
   ]
  },
  {
   "cell_type": "markdown",
   "id": "8effaac4",
   "metadata": {},
   "source": [
    "# Q7. What is the process for creating a class?"
   ]
  },
  {
   "cell_type": "markdown",
   "id": "6c2f1952",
   "metadata": {},
   "source": [
    "1. First we need to create a class using class name and followed by ':' \n",
    "    example : class my_class: # here class is a key word and 'my_class' is a class name\n",
    "2. if we want to intialize the global variables we can create or else not required in global way inside class.\n",
    "    example : class my_class:\n",
    "                    item = \"fruit\"\n",
    "                \n",
    "3. then __init__ constructor is also optional if we want to create and assaign attribute and pass to all class methods\n",
    "    then we can initialize the attributes with in the constructure using self perameter . else we can skip the constructure\n",
    "    \n",
    "    example : class my_class:\n",
    "                  item = \"fruit\"\n",
    "                  def __init__(self,name,color):\n",
    "                        self.name = name\n",
    "                        self.color = color\n",
    "                        \n",
    "4. then we can create the functions if we want for any functionality or calculation then using self we van able to access \n",
    "    the construture attributes.\n",
    "    \n",
    "    example: class my_class:\n",
    "                  item = \"fruit\"\n",
    "                  def __init__(self,name,color):\n",
    "                        self.name = name\n",
    "                        self.color = color\n",
    "                  \n",
    "                  def fruit_detail(self):\n",
    "                      print(f\"item name is :\",self.name)\n",
    "                      print(f\"item color is :\",self.color)\n",
    "\n",
    "5. Then we can create an instance with calling the class with defined attribute values.\n",
    "\n",
    "    Example: class my_class:\n",
    "                  item = \"fruit\"\n",
    "                  def __init__(self,name,color):\n",
    "                        self.name = name\n",
    "                        self.color = color\n",
    "                  \n",
    "                  def fruit_detail(self):\n",
    "                      print(f\"item name is :\",self.name)\n",
    "                      print(f\"item color is :\",self.color)\n",
    "                        \n",
    "            fruit_instance = my_class('apple',\"red\")\n",
    "            fruit_instance1 = my_class('orange',\"orange\")\n",
    "6.Then we can call that created instance with class method or class function\n",
    "\n",
    "    Example : class my_class:\n",
    "                  item = \"fruit\"\n",
    "                  def __init__(self,name,color):\n",
    "                        self.name = name\n",
    "                        self.color = color\n",
    "                  \n",
    "                  def fruit_detail(self):\n",
    "                      print(f\"item name is :\",self.name)\n",
    "                      print(f\"item color is :\",self.color)\n",
    "                        \n",
    "            fruit_instance = my_class('apple',\"red\")\n",
    "            fruit_instance1 = my_class('orange',\"orange\")\n",
    "            \n",
    "            print(\"type of item is : \",fruit_instance.item)\n",
    "\n",
    "            fruit_instance.fruit_detail()\n",
    "            print(\"type of item is : \",fruit_instance1.item)\n",
    "            fruit_instance1.fruit_detail()\n",
    "            \n",
    "7. Then if we want to change the values we can also able to update using instance name along with the attribute name\n",
    "\n",
    "    Example : class my_class:\n",
    "                  item = \"fruit\"\n",
    "                  def __init__(self,name,color):\n",
    "                        self.name = name\n",
    "                        self.color = color\n",
    "                  \n",
    "                  def fruit_detail(self):\n",
    "                      print(f\"item name is :\",self.name)\n",
    "                      print(f\"item color is :\",self.color)\n",
    "                        \n",
    "            fruit_instance = my_class('apple',\"red\")\n",
    "            fruit_instance1 = my_class('orange',\"orange\")\n",
    "            \n",
    "            print(\"type of item is : \",fruit_instance.item)\n",
    "\n",
    "            fruit_instance.fruit_detail()\n",
    "            print(\"type of item is : \",fruit_instance1.item)\n",
    "            fruit_instance1.fruit_detail()\n",
    "            \n",
    "            fruit_instance.name = \"kiwi\"\n",
    "            fruit_instance.color = \"green\"\n",
    "    \n",
    "    \n",
    "            fruit_instance.fruit_detail()\n",
    "\n",
    "            \n",
    "        \n",
    "            \n",
    "                \n"
   ]
  },
  {
   "cell_type": "code",
   "execution_count": 9,
   "id": "0b2462c0",
   "metadata": {},
   "outputs": [
    {
     "name": "stdout",
     "output_type": "stream",
     "text": [
      "type of item is :  fruit\n",
      "item name is : apple\n",
      "item color is : red\n",
      "type of item is :  fruit\n",
      "item name is : orange\n",
      "item color is : orange\n",
      "type of item is :  fruit\n",
      "item name is : kiwi\n",
      "item color is : green\n"
     ]
    }
   ],
   "source": [
    "class my_class:\n",
    "    item = \"fruit\"\n",
    "    def __init__(self,name,color):\n",
    "        self.name = name\n",
    "        self.color = color\n",
    "\n",
    "    def fruit_detail(self):\n",
    "        print(f\"item name is :\",self.name)\n",
    "        print(f\"item color is :\",self.color)\n",
    "                        \n",
    "fruit_instance = my_class('apple',\"red\")\n",
    "fruit_instance1 = my_class('orange',\"orange\")\n",
    "\n",
    "print(\"type of item is : \",fruit_instance.item)\n",
    "\n",
    "fruit_instance.fruit_detail()\n",
    "print(\"type of item is : \",fruit_instance1.item)\n",
    "\n",
    "fruit_instance1.fruit_detail()\n",
    "\n",
    "fruit_instance.name = \"kiwi\"\n",
    "fruit_instance.color = \"green\"\n",
    "\n",
    "print(\"type of item is : \",fruit_instance.item)\n",
    "\n",
    "fruit_instance.fruit_detail()\n",
    "    "
   ]
  },
  {
   "cell_type": "markdown",
   "id": "2d9fdf60",
   "metadata": {},
   "source": [
    "# Q8. How would you define the superclasses of a class?"
   ]
  },
  {
   "cell_type": "markdown",
   "id": "bb571e3b",
   "metadata": {},
   "source": [
    "1. we can inherit or exatract the behaviour from the superior class or previous class.\n",
    "    that is previous class is called super class or parent class in an object oriented programming language.\n",
    "2. this is called inheritence.\n",
    "3. using instance we can call super class behaviour through child class directly.\n",
    "4. we are inheriting the behaviour of super class into current class that is called child class.\n",
    "5. we can able to modify the superclass behaviour in child class.\n",
    "\n",
    "### Example:\n",
    "    "
   ]
  },
  {
   "cell_type": "code",
   "execution_count": 10,
   "id": "77bb90c3",
   "metadata": {},
   "outputs": [
    {
     "name": "stdout",
     "output_type": "stream",
     "text": [
      "Hi Hello I am Robo and my name is chitti\n"
     ]
    }
   ],
   "source": [
    "class robo:\n",
    "    def __init__(self,name):\n",
    "        self.name = name\n",
    "    def intro(self):\n",
    "        print(f\"Hi Hello I am Robo and my name is {self.name}\")\n",
    "        \n",
    "class scientific_robo(robo):\n",
    "    pass\n",
    "\n",
    "science = scientific_robo(\"chitti\")\n",
    "science.intro()"
   ]
  },
  {
   "cell_type": "code",
   "execution_count": null,
   "id": "db4caf8d",
   "metadata": {},
   "outputs": [],
   "source": []
  }
 ],
 "metadata": {
  "kernelspec": {
   "display_name": "Python 3",
   "language": "python",
   "name": "python3"
  },
  "language_info": {
   "codemirror_mode": {
    "name": "ipython",
    "version": 3
   },
   "file_extension": ".py",
   "mimetype": "text/x-python",
   "name": "python",
   "nbconvert_exporter": "python",
   "pygments_lexer": "ipython3",
   "version": "3.8.8"
  }
 },
 "nbformat": 4,
 "nbformat_minor": 5
}
