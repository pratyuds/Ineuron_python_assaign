{
 "cells": [
  {
   "cell_type": "markdown",
   "id": "b0f76abf",
   "metadata": {},
   "source": [
    "# 1. Write a Python program to print \"Hello Python\"?"
   ]
  },
  {
   "cell_type": "markdown",
   "id": "530b1744",
   "metadata": {},
   "source": [
    "Just need to write a simple print() statement"
   ]
  },
  {
   "cell_type": "code",
   "execution_count": 1,
   "id": "8e3c7cb8",
   "metadata": {},
   "outputs": [
    {
     "name": "stdout",
     "output_type": "stream",
     "text": [
      "Hello Python\n"
     ]
    }
   ],
   "source": [
    "print(\"Hello Python\")"
   ]
  },
  {
   "cell_type": "markdown",
   "id": "fbc0a59d",
   "metadata": {},
   "source": [
    "# 2. Write a Python program to do arithmetical operations addition and division.?"
   ]
  },
  {
   "cell_type": "code",
   "execution_count": 2,
   "id": "084b1374",
   "metadata": {},
   "outputs": [
    {
     "name": "stdout",
     "output_type": "stream",
     "text": [
      "Enter the first integer number : 150\n",
      "Enter the second integer number : 50\n",
      "150\n",
      "50\n"
     ]
    }
   ],
   "source": [
    "a = int(input(\"Enter the first integer number : \"))\n",
    "       \n",
    "b = int(input(\"Enter the second integer number : \"))\n",
    "print(a)\n",
    "print(b)\n",
    "\n"
   ]
  },
  {
   "cell_type": "markdown",
   "id": "e04740c2",
   "metadata": {},
   "source": [
    "### Addition\n",
    " \n",
    "     we can able to add any number of variables using arithmetical operator '+'"
   ]
  },
  {
   "cell_type": "code",
   "execution_count": 3,
   "id": "9f0c33d0",
   "metadata": {},
   "outputs": [
    {
     "data": {
      "text/plain": [
       "200"
      ]
     },
     "execution_count": 3,
     "metadata": {},
     "output_type": "execute_result"
    }
   ],
   "source": [
    "a + b"
   ]
  },
  {
   "cell_type": "code",
   "execution_count": 4,
   "id": "345c6afa",
   "metadata": {},
   "outputs": [
    {
     "data": {
      "text/plain": [
       "200"
      ]
     },
     "execution_count": 4,
     "metadata": {},
     "output_type": "execute_result"
    }
   ],
   "source": [
    "b+a"
   ]
  },
  {
   "cell_type": "markdown",
   "id": "fd71c4f0",
   "metadata": {},
   "source": [
    "### Division\n",
    " \n",
    "     we can able to devide two variables using arithmetical operator '/'"
   ]
  },
  {
   "cell_type": "code",
   "execution_count": 5,
   "id": "2c70c46e",
   "metadata": {},
   "outputs": [
    {
     "data": {
      "text/plain": [
       "3.0"
      ]
     },
     "execution_count": 5,
     "metadata": {},
     "output_type": "execute_result"
    }
   ],
   "source": [
    "a/b"
   ]
  },
  {
   "cell_type": "code",
   "execution_count": 6,
   "id": "6db98124",
   "metadata": {},
   "outputs": [
    {
     "data": {
      "text/plain": [
       "0.3333333333333333"
      ]
     },
     "execution_count": 6,
     "metadata": {},
     "output_type": "execute_result"
    }
   ],
   "source": [
    "b/a"
   ]
  },
  {
   "cell_type": "markdown",
   "id": "25762bbd",
   "metadata": {},
   "source": [
    "# 3. Write a Python program to find the area of a triangle?"
   ]
  },
  {
   "cell_type": "code",
   "execution_count": 7,
   "id": "f2632010",
   "metadata": {},
   "outputs": [
    {
     "name": "stdout",
     "output_type": "stream",
     "text": [
      "Enter the first angle value : 10.4\n",
      "Enter the second angle value : 7.8\n",
      "Enter the third angle value : 9.24\n",
      "10.4\n",
      "7.8\n",
      "9.24\n"
     ]
    }
   ],
   "source": [
    "first = float(input(\"Enter the first angle value : \"))\n",
    "       \n",
    "second = float(input(\"Enter the second angle value : \"))\n",
    "\n",
    "third  = float(input(\"Enter the third angle value : \"))\n",
    "\n",
    "print(first)\n",
    "print(second)\n",
    "print(third)"
   ]
  },
  {
   "cell_type": "markdown",
   "id": "c1d3f0da",
   "metadata": {},
   "source": [
    "### After taking the input first we have to calculate the slope that triangle"
   ]
  },
  {
   "cell_type": "code",
   "execution_count": 8,
   "id": "72f9c111",
   "metadata": {},
   "outputs": [
    {
     "name": "stdout",
     "output_type": "stream",
     "text": [
      "13.719999999999999\n"
     ]
    }
   ],
   "source": [
    "slope = (first+second+third)/2\n",
    "print(slope)"
   ]
  },
  {
   "cell_type": "markdown",
   "id": "1997594d",
   "metadata": {},
   "source": [
    "### Then using that slope we have to calculate the area of Triangle.\n",
    "    \n",
    "####    Here I applied the round function to cut the floating value at 2 decimals,\n",
    "####    Note :\n",
    "    how many deciamls we want to keep we can give that number in side round function"
   ]
  },
  {
   "cell_type": "code",
   "execution_count": 9,
   "id": "7f41e9c3",
   "metadata": {},
   "outputs": [
    {
     "name": "stdout",
     "output_type": "stream",
     "text": [
      "the area of triangle is : 34.76\n"
     ]
    }
   ],
   "source": [
    "area_of_triangle = (slope*(slope-first)*(slope-second)*(slope-third))**0.5\n",
    "print(\"the area of triangle is :\", round(area_of_triangle,2))"
   ]
  },
  {
   "cell_type": "markdown",
   "id": "e83ff3d8",
   "metadata": {},
   "source": [
    "# 4. Write a Python program to swap two variables?"
   ]
  },
  {
   "cell_type": "code",
   "execution_count": 10,
   "id": "5b05422d",
   "metadata": {},
   "outputs": [
    {
     "name": "stdout",
     "output_type": "stream",
     "text": [
      "enter first number : 100\n",
      "enter second number : 2000\n",
      "before swapping the first number is :  100\n",
      "before swapping the second number is :  2000\n"
     ]
    }
   ],
   "source": [
    "num1 = int(input(\"enter first number : \"))\n",
    "num2 = int(input(\"enter second number : \"))\n",
    "print(\"before swapping the first number is : \",num1)\n",
    "print(\"before swapping the second number is : \",num2)"
   ]
  },
  {
   "cell_type": "markdown",
   "id": "9688ea85",
   "metadata": {},
   "source": [
    "1. we are taking the temporary variable \n",
    "2. then we can store the first variable element into temporary variable\n",
    "3. then we can store the second element into first variable name\n",
    "4. then we can store the temporary stored element value into second varaible name"
   ]
  },
  {
   "cell_type": "code",
   "execution_count": 11,
   "id": "0b21ce5f",
   "metadata": {},
   "outputs": [
    {
     "name": "stdout",
     "output_type": "stream",
     "text": [
      "after swapping the first number is :  2000\n",
      "after swapping the second number is :  100\n"
     ]
    }
   ],
   "source": [
    "temp = num1\n",
    "num1 = num2\n",
    "num2 = temp\n",
    "\n",
    "print(\"after swapping the first number is : \",num1)\n",
    "print(\"after swapping the second number is : \",num2)"
   ]
  },
  {
   "cell_type": "markdown",
   "id": "4a8ea53e",
   "metadata": {},
   "source": [
    "# 5. Write a Python program to generate a random number?"
   ]
  },
  {
   "cell_type": "markdown",
   "id": "373e55dc",
   "metadata": {},
   "source": [
    "First for generate random number we can import one package is called:\n",
    "###    random:\n",
    "            1. we have random() function inside random package.\n",
    "            2. with that using random function we can able to generate random number."
   ]
  },
  {
   "cell_type": "code",
   "execution_count": 12,
   "id": "948e66f0",
   "metadata": {},
   "outputs": [],
   "source": [
    "import random"
   ]
  },
  {
   "cell_type": "markdown",
   "id": "67127cbb",
   "metadata": {},
   "source": [
    "#### we can able to generate integer data type random number"
   ]
  },
  {
   "cell_type": "code",
   "execution_count": 13,
   "id": "4b9656fd",
   "metadata": {},
   "outputs": [
    {
     "name": "stdout",
     "output_type": "stream",
     "text": [
      "0\n"
     ]
    }
   ],
   "source": [
    "random_number = int(random.random())\n",
    "print(random_number)"
   ]
  },
  {
   "cell_type": "markdown",
   "id": "cb36cede",
   "metadata": {},
   "source": [
    "#### we can able to generate float data type random number"
   ]
  },
  {
   "cell_type": "code",
   "execution_count": 14,
   "id": "c7ff932f",
   "metadata": {},
   "outputs": [
    {
     "name": "stdout",
     "output_type": "stream",
     "text": [
      "0.6800401187096362\n"
     ]
    }
   ],
   "source": [
    "random_number = float(random.random())\n",
    "print(random_number)"
   ]
  },
  {
   "cell_type": "code",
   "execution_count": null,
   "id": "ec679624",
   "metadata": {},
   "outputs": [],
   "source": []
  },
  {
   "cell_type": "code",
   "execution_count": null,
   "id": "982820a9",
   "metadata": {},
   "outputs": [],
   "source": []
  }
 ],
 "metadata": {
  "kernelspec": {
   "display_name": "Python 3",
   "language": "python",
   "name": "python3"
  },
  "language_info": {
   "codemirror_mode": {
    "name": "ipython",
    "version": 3
   },
   "file_extension": ".py",
   "mimetype": "text/x-python",
   "name": "python",
   "nbconvert_exporter": "python",
   "pygments_lexer": "ipython3",
   "version": "3.8.8"
  }
 },
 "nbformat": 4,
 "nbformat_minor": 5
}
