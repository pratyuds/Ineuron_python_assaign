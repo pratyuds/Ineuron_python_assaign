{
 "cells": [
  {
   "cell_type": "markdown",
   "id": "6299d662",
   "metadata": {},
   "source": [
    "## 1.What are the two values of the Boolean data type? How do you write them?"
   ]
  },
  {
   "cell_type": "raw",
   "id": "b887911b",
   "metadata": {},
   "source": [
    "Boolean data type means we have two conditions either True or False. data type is <class bool>\n",
    "True => \n",
    "    ex:\n",
    "            a = True\n",
    "            print(a)\n",
    "            type(a)\n",
    "    \n",
    "False =>\n",
    "     ex:\n",
    "            b = False\n",
    "            print(b)\n",
    "            type(b)"
   ]
  },
  {
   "cell_type": "code",
   "execution_count": 1,
   "id": "1a080554",
   "metadata": {},
   "outputs": [
    {
     "name": "stdout",
     "output_type": "stream",
     "text": [
      "the a value is 'True' and type is '<class 'bool'>'\n"
     ]
    },
    {
     "data": {
      "text/plain": [
       "bool"
      ]
     },
     "execution_count": 1,
     "metadata": {},
     "output_type": "execute_result"
    }
   ],
   "source": [
    "a = True\n",
    "print(f\"the a value is '{a}' and type is '{type(a)}'\")\n",
    "type(a)"
   ]
  },
  {
   "cell_type": "code",
   "execution_count": 2,
   "id": "d6c7f4c0",
   "metadata": {},
   "outputs": [
    {
     "name": "stdout",
     "output_type": "stream",
     "text": [
      "the a value is 'False' and type is '<class 'bool'>'\n"
     ]
    },
    {
     "data": {
      "text/plain": [
       "bool"
      ]
     },
     "execution_count": 2,
     "metadata": {},
     "output_type": "execute_result"
    }
   ],
   "source": [
    "a = False\n",
    "print(f\"the a value is '{a}' and type is '{type(a)}'\")\n",
    "type(a)"
   ]
  },
  {
   "cell_type": "markdown",
   "id": "5fcb2aa8",
   "metadata": {},
   "source": [
    "# 2. What are the three different types of Boolean operators?"
   ]
  },
  {
   "cell_type": "raw",
   "id": "6ca83b26",
   "metadata": {},
   "source": [
    " 2. Logical operators :-\n",
    "        1. and\n",
    "        2. or\n",
    "        3. not\n",
    "and: 'and' is used for if we want to check two are more conditions with in the if statement, at that time , we will use 'and' operator.\n",
    "     along with that, here what ever we given multiple conditions all those are need to be satisfied.\n",
    "or : 'or' is used for if we want to check two are more conditions with in the if statement, at that time , we will use 'or' operator.\n",
    "     along with that, here what ever we given multiple conditions any one of the condition need to be satisfied.\n",
    "not : 'not' is used for  if condition is not(true), it will give True or False    "
   ]
  },
  {
   "cell_type": "code",
   "execution_count": 3,
   "id": "5a64a657",
   "metadata": {},
   "outputs": [
    {
     "name": "stdout",
     "output_type": "stream",
     "text": [
      "1 2\n"
     ]
    }
   ],
   "source": [
    "a =1\n",
    "b=2\n",
    "if a ==1 and b==2:\n",
    "    print(a,b)"
   ]
  },
  {
   "cell_type": "code",
   "execution_count": 4,
   "id": "23737af2",
   "metadata": {},
   "outputs": [
    {
     "name": "stdout",
     "output_type": "stream",
     "text": [
      "1 2\n"
     ]
    }
   ],
   "source": [
    "a =1\n",
    "b=2\n",
    "if a ==1 or b==3:\n",
    "    print(a,b)"
   ]
  },
  {
   "cell_type": "code",
   "execution_count": 9,
   "id": "079c30ab",
   "metadata": {},
   "outputs": [
    {
     "data": {
      "text/plain": [
       "True"
      ]
     },
     "execution_count": 9,
     "metadata": {},
     "output_type": "execute_result"
    }
   ],
   "source": [
    "a=1\n",
    "b=2\n",
    "not(a==b)"
   ]
  },
  {
   "cell_type": "markdown",
   "id": "26ba1264",
   "metadata": {},
   "source": [
    "# 3. Make a list of each Boolean operator&#39;s truth tables (i.e. every possible combination of Boolean values for the operator and what it evaluate )."
   ]
  },
  {
   "cell_type": "raw",
   "id": "1a67f868",
   "metadata": {},
   "source": [
    "3. Truth Tabales:-\n",
    "    \n",
    "    and Table\n",
    "    x        y    =>   o/p\n",
    "    True   True   => True\n",
    "    True    False  => False\n",
    "    False   True   => False\n",
    "    False   False  => False\n",
    "    \n",
    "    \n",
    "    or Table\n",
    "    x        y     => o/p\n",
    "    True    True   => True\n",
    "    True    False   => True\n",
    "    False   True    => True\n",
    "    False    False   => False\n",
    "    \n",
    "    not Tbale\n",
    "     x     => o/p\n",
    "        \n",
    "    True   =>  False\n",
    "    False  => True"
   ]
  },
  {
   "cell_type": "markdown",
   "id": "bf9e9623",
   "metadata": {},
   "source": [
    "# 4. What are the values of the following expressions?\n",
    "(5 &gt; 4) and (3 == 5)\n",
    "\n",
    "not (5 &gt; 4)\n",
    "\n",
    "(5 &gt; 4) or (3 == 5)\n",
    "\n",
    "not ((5 &gt; 4) or (3 == 5))\n",
    "\n",
    "(True and True) and (True == False)\n",
    "\n",
    "(not False) or (not True)"
   ]
  },
  {
   "cell_type": "code",
   "execution_count": 10,
   "id": "bdfc6a60",
   "metadata": {},
   "outputs": [
    {
     "data": {
      "text/plain": [
       "False"
      ]
     },
     "execution_count": 10,
     "metadata": {},
     "output_type": "execute_result"
    }
   ],
   "source": [
    "(5 > 4) and (3 == 5) # True and False  => False  => (as per Truth Tables)"
   ]
  },
  {
   "cell_type": "code",
   "execution_count": 11,
   "id": "64bc7f41",
   "metadata": {},
   "outputs": [
    {
     "data": {
      "text/plain": [
       "False"
      ]
     },
     "execution_count": 11,
     "metadata": {},
     "output_type": "execute_result"
    }
   ],
   "source": [
    "not(5>4)  # not(True)  => False  => (as per Truth Tables)"
   ]
  },
  {
   "cell_type": "code",
   "execution_count": 12,
   "id": "0ec3c6af",
   "metadata": {},
   "outputs": [
    {
     "data": {
      "text/plain": [
       "True"
      ]
     },
     "execution_count": 12,
     "metadata": {},
     "output_type": "execute_result"
    }
   ],
   "source": [
    "(5 > 4) or (3 == 5) # True or  False  => True  => (as per Truth Tables)"
   ]
  },
  {
   "cell_type": "code",
   "execution_count": 13,
   "id": "c13c66c0",
   "metadata": {},
   "outputs": [
    {
     "data": {
      "text/plain": [
       "False"
      ]
     },
     "execution_count": 13,
     "metadata": {},
     "output_type": "execute_result"
    }
   ],
   "source": [
    "not((5 > 4) or (3 == 5))  # not(True or False ) => not(True)  => False  => (as per Truth Tables)"
   ]
  },
  {
   "cell_type": "code",
   "execution_count": 14,
   "id": "c169a6bd",
   "metadata": {},
   "outputs": [
    {
     "data": {
      "text/plain": [
       "False"
      ]
     },
     "execution_count": 14,
     "metadata": {},
     "output_type": "execute_result"
    }
   ],
   "source": [
    "(True and True) and (True == False) # True and False => False  => (as per Truth Tables)"
   ]
  },
  {
   "cell_type": "code",
   "execution_count": 15,
   "id": "343c9df3",
   "metadata": {},
   "outputs": [
    {
     "data": {
      "text/plain": [
       "True"
      ]
     },
     "execution_count": 15,
     "metadata": {},
     "output_type": "execute_result"
    }
   ],
   "source": [
    "(not False) or (not True)  # True or False  => True  => (as per Truth Tables)"
   ]
  },
  {
   "cell_type": "markdown",
   "id": "f35b2da7",
   "metadata": {},
   "source": [
    "# 5. What are the six comparison operators?"
   ]
  },
  {
   "cell_type": "raw",
   "id": "40d3d340",
   "metadata": {},
   "source": [
    "\n",
    "comparision operators :-\n",
    "        \n",
    "        \n",
    "        == (equal to )=>(if both variable values are equal like for ex: a=10,b=10, if a == b=>True => it will go into the body statements, \n",
    "                       other wise it will out from the condition statement) \n",
    "        != (not eqaul to) => (if both variable values are not equal like for ex:a=1,b=2, if a != b=>True => it will go into the body statements,\n",
    "                         other wise it will out from the condition statement) \n",
    "        > (greater than) => (if one variable is greater than another variable like for ex: a=10,b=5, if a>b=>True =>it will go into the body statements,\n",
    "                        other wise it will out from the condition statement) \n",
    "        >= (greater than or equal to) => (if one variable is greater than or equal to another variable like for ex: a=10,b=5, if a>=b=> True =>it will go into the body statements,\n",
    "                        other wise it will out from the condition statement) \n",
    "        < (less than) => (if one variable is less than another varaibale like for ex: a=10,b=5, if a<b =>True=> it will go into the body statements \n",
    "                           other wise it will out from the condition statement) \n",
    "        <= (less than or equal to) => (if one variable is less than or equal to another varaibale like for ex: a=10,b=5, if a<b =>True=> it will go into the body statements \n",
    "                           other wise it will out from the condition statement) \n",
    "    \n",
    "    \n",
    "    \n",
    "   "
   ]
  },
  {
   "cell_type": "code",
   "execution_count": 16,
   "id": "9291fe46",
   "metadata": {},
   "outputs": [
    {
     "name": "stdout",
     "output_type": "stream",
     "text": [
      "1 1\n"
     ]
    }
   ],
   "source": [
    "a=1\n",
    "b=1\n",
    "if a==b:\n",
    "    print(a,b)"
   ]
  },
  {
   "cell_type": "code",
   "execution_count": 17,
   "id": "36183812",
   "metadata": {},
   "outputs": [
    {
     "name": "stdout",
     "output_type": "stream",
     "text": [
      "1 2\n"
     ]
    }
   ],
   "source": [
    "a=1\n",
    "b=2\n",
    "if a!=b:\n",
    "    print(a,b)"
   ]
  },
  {
   "cell_type": "code",
   "execution_count": 18,
   "id": "58bb403b",
   "metadata": {},
   "outputs": [
    {
     "name": "stdout",
     "output_type": "stream",
     "text": [
      "1 2\n"
     ]
    }
   ],
   "source": [
    "a=1\n",
    "b=2\n",
    "if b>a:\n",
    "    print(a,b)"
   ]
  },
  {
   "cell_type": "code",
   "execution_count": 19,
   "id": "40456b5d",
   "metadata": {},
   "outputs": [
    {
     "name": "stdout",
     "output_type": "stream",
     "text": [
      "1 1\n"
     ]
    }
   ],
   "source": [
    "a=1\n",
    "b=1\n",
    "if b>=a:\n",
    "    print(a,b)"
   ]
  },
  {
   "cell_type": "code",
   "execution_count": 20,
   "id": "d59feb19",
   "metadata": {},
   "outputs": [
    {
     "name": "stdout",
     "output_type": "stream",
     "text": [
      "1 0\n"
     ]
    }
   ],
   "source": [
    "a=1\n",
    "b=0\n",
    "if b<a:\n",
    "    print(a,b)"
   ]
  },
  {
   "cell_type": "code",
   "execution_count": 21,
   "id": "2c5df7ee",
   "metadata": {},
   "outputs": [
    {
     "name": "stdout",
     "output_type": "stream",
     "text": [
      "0 0\n"
     ]
    }
   ],
   "source": [
    "a=0\n",
    "b=0\n",
    "if b<=a:\n",
    "    print(a,b)"
   ]
  },
  {
   "cell_type": "markdown",
   "id": "6aeab57b",
   "metadata": {},
   "source": [
    "# 6. How do you tell the difference between the equal to and assignment operators?Describe a condition and when you would use one."
   ]
  },
  {
   "cell_type": "raw",
   "id": "147fff99",
   "metadata": {},
   "source": [
    "equal to operator (==) ===> it is used for comparing the values or conditions.\n",
    "                                and it returns '1' or True  => if both are same  or it returns '0' or False\n",
    "                            for ex : a=10, b=10\n",
    "                                     a==b =>  True\n",
    "                                     a=10, b=20\n",
    "                                     a==b  => False like this it will work\n",
    "                        \n",
    "assignment operator (=) ===> it is used for value assaignment to varaibles\n",
    "                                for ex: a = 10\n",
    "                                        b =20\n",
    "            \n",
    "                            in this a=10 statement ==> we are assaign the '10' value to 'a' varaible\n",
    "                                    b=20 statement ==> we are assaign the '20' value to 'b' variable\n",
    "                        "
   ]
  },
  {
   "cell_type": "markdown",
   "id": "9cb422e0",
   "metadata": {},
   "source": [
    "# 7. Identify the three blocks in this code:\n",
    "spam = 0\n",
    "\n",
    "if spam == 10:\n",
    "\n",
    "print(&#39;eggs&#39;)\n",
    "\n",
    "if spam &gt; 5:\n",
    "\n",
    "print(&#39;bacon&#39;)\n",
    "\n",
    "else:\n",
    "\n",
    "print(&#39;ham&#39;)\n",
    "\n",
    "print(&#39;spam&#39;)\n",
    "\n",
    "print(&#39;spam&#39;)\n"
   ]
  },
  {
   "cell_type": "markdown",
   "id": "d1182675",
   "metadata": {},
   "source": [
    "# 1)"
   ]
  },
  {
   "cell_type": "code",
   "execution_count": 22,
   "id": "94d3d30d",
   "metadata": {},
   "outputs": [],
   "source": [
    "spam =0\n",
    "if spam == 10:\n",
    "    print('eggs')"
   ]
  },
  {
   "cell_type": "markdown",
   "id": "3c4084bd",
   "metadata": {},
   "source": [
    "# 2)"
   ]
  },
  {
   "cell_type": "code",
   "execution_count": 23,
   "id": "41b6d81c",
   "metadata": {},
   "outputs": [
    {
     "name": "stdout",
     "output_type": "stream",
     "text": [
      "ham\n",
      "spam\n"
     ]
    }
   ],
   "source": [
    "if spam >5:\n",
    "    print('bacon')\n",
    "else:\n",
    "    print('ham')\n",
    "    print('spam')"
   ]
  },
  {
   "cell_type": "markdown",
   "id": "754fbc36",
   "metadata": {},
   "source": [
    "# 3)"
   ]
  },
  {
   "cell_type": "code",
   "execution_count": 24,
   "id": "aabf71c4",
   "metadata": {},
   "outputs": [
    {
     "name": "stdout",
     "output_type": "stream",
     "text": [
      "spam\n"
     ]
    }
   ],
   "source": [
    "print('spam')"
   ]
  },
  {
   "cell_type": "markdown",
   "id": "a1e9100c",
   "metadata": {},
   "source": [
    "# 8. Write code that prints Hello if 1 is stored in spam, prints Howdy if 2 is stored in spam, and prints Greetings! if anything else is stored in spam."
   ]
  },
  {
   "cell_type": "code",
   "execution_count": 29,
   "id": "0fd83c88",
   "metadata": {},
   "outputs": [
    {
     "name": "stdout",
     "output_type": "stream",
     "text": [
      "enter the spam value : 1\n",
      "Hello\n"
     ]
    }
   ],
   "source": [
    "spam = int(input(\"enter the spam value : \"))\n",
    "if spam == 1:\n",
    "    print(\"Hello\")\n",
    "elif spam == 2:\n",
    "    print(\"Howdy\")\n",
    "else:\n",
    "    print(\"Greetings!\")"
   ]
  },
  {
   "cell_type": "markdown",
   "id": "4019c8be",
   "metadata": {},
   "source": [
    "# 9.If your programme is stuck in an endless loop, what keys you’ll press?"
   ]
  },
  {
   "cell_type": "raw",
   "id": "d9ab200a",
   "metadata": {},
   "source": [
    "If my programme is stuck in an endless loop , I will press on 'Interrupt the kernal' or 'Restart the kernal' in 'jupyter notebook'\n",
    "in pycharm => 'ctrl + c'"
   ]
  },
  {
   "cell_type": "markdown",
   "id": "6a3ad051",
   "metadata": {},
   "source": [
    "# 10. How can you tell the difference between break and continue?"
   ]
  },
  {
   "cell_type": "code",
   "execution_count": null,
   "id": "7ce8704e",
   "metadata": {},
   "outputs": [],
   "source": [
    "Diffrence between break and continue:\n",
    "    \n",
    "    1). Break => 'Break' is used for it terminates the excution from current loop are condition then it will pass \n",
    "                 to body or another condition or loop.\n",
    "    \n",
    "    2). continue => 'continue' is used for it will skip the current iteration and excutes the very \n",
    "                    next iteration in a same loop or condition"
   ]
  },
  {
   "cell_type": "code",
   "execution_count": 34,
   "id": "61a182fd",
   "metadata": {},
   "outputs": [
    {
     "name": "stdout",
     "output_type": "stream",
     "text": [
      "1\n",
      "2\n",
      "3\n"
     ]
    }
   ],
   "source": [
    "a = 0\n",
    "l =[1,2,3,4,5,6]\n",
    "while a < len(l):\n",
    "    print(l[a])\n",
    "    if l[a] ==3:\n",
    "        break\n",
    "    a = a+1"
   ]
  },
  {
   "cell_type": "code",
   "execution_count": 69,
   "id": "78fdc402",
   "metadata": {},
   "outputs": [
    {
     "name": "stdout",
     "output_type": "stream",
     "text": [
      "1\n",
      "2\n",
      "4\n",
      "5\n",
      "6\n"
     ]
    }
   ],
   "source": [
    "a = 0\n",
    "while a <= 5:\n",
    "    a = a+1\n",
    "    if a ==3:\n",
    "        continue\n",
    "    print(a)\n",
    "\n"
   ]
  },
  {
   "cell_type": "markdown",
   "id": "737caa87",
   "metadata": {},
   "source": [
    "# 11. In a for loop, what is the difference between range(10), range(0, 10), and range(0, 10, 1)?"
   ]
  },
  {
   "cell_type": "code",
   "execution_count": 47,
   "id": "81817ede",
   "metadata": {},
   "outputs": [
    {
     "name": "stdout",
     "output_type": "stream",
     "text": [
      "0\n",
      "1\n",
      "2\n",
      "3\n",
      "4\n",
      "5\n",
      "6\n",
      "7\n",
      "8\n",
      "9\n"
     ]
    }
   ],
   "source": [
    "range(10) ==>  when ever we given like this always it will take 0 as index starting point\n",
    "i =0\n",
    "for i in range(10):  \n",
    "    print(i)"
   ]
  },
  {
   "cell_type": "code",
   "execution_count": 48,
   "id": "dba69c7f",
   "metadata": {},
   "outputs": [
    {
     "name": "stdout",
     "output_type": "stream",
     "text": [
      "0\n",
      "1\n",
      "2\n",
      "3\n",
      "4\n",
      "5\n",
      "6\n",
      "7\n",
      "8\n",
      "9\n"
     ]
    }
   ],
   "source": [
    "range(0, 10) ==> when ever we given like this it will take 0 as starting point and 10 as end point,\n",
    "                    if we want to change we will able to change the start point\n",
    "i =0\n",
    "for i in range(0,10):\n",
    "    print(i)"
   ]
  },
  {
   "cell_type": "code",
   "execution_count": 49,
   "id": "2786e949",
   "metadata": {},
   "outputs": [
    {
     "name": "stdout",
     "output_type": "stream",
     "text": [
      "0\n",
      "1\n",
      "2\n",
      "3\n",
      "4\n",
      "5\n",
      "6\n",
      "7\n",
      "8\n",
      "9\n"
     ]
    }
   ],
   "source": [
    "range(0, 10, 1) ==> when ever we given like this here, 0 is start point, 10 is end point, 1is skip point\n",
    "                    here the loop postion start from 0 till 10 and it will skip the 1 position\n",
    "i =0\n",
    "for i in range(0,10,1):\n",
    "    print(i)"
   ]
  },
  {
   "cell_type": "markdown",
   "id": "e20d5aaa",
   "metadata": {},
   "source": [
    "# 12. Write a short program that prints the numbers 1 to 10 using a for loop. Then write an equivalent program that prints the numbers 1 to 10 using a while loop."
   ]
  },
  {
   "cell_type": "code",
   "execution_count": 55,
   "id": "21733cac",
   "metadata": {},
   "outputs": [
    {
     "name": "stdout",
     "output_type": "stream",
     "text": [
      "1\n",
      "2\n",
      "3\n",
      "4\n",
      "5\n",
      "6\n",
      "7\n",
      "8\n",
      "9\n",
      "10\n"
     ]
    }
   ],
   "source": [
    "i =1\n",
    "for i in range(10):\n",
    "    i =i+1\n",
    "    print(i)\n"
   ]
  },
  {
   "cell_type": "code",
   "execution_count": 56,
   "id": "37e70bc6",
   "metadata": {},
   "outputs": [
    {
     "name": "stdout",
     "output_type": "stream",
     "text": [
      "1\n",
      "2\n",
      "3\n",
      "4\n",
      "5\n",
      "6\n",
      "7\n",
      "8\n",
      "9\n",
      "10\n"
     ]
    }
   ],
   "source": [
    "i =1\n",
    "while i<=10:\n",
    "    print(i)\n",
    "    i =i+1"
   ]
  },
  {
   "cell_type": "markdown",
   "id": "df674880",
   "metadata": {},
   "source": [
    "# 13. If you had a function named bacon() inside a module named spam, how would you call it after importing spam?"
   ]
  },
  {
   "cell_type": "raw",
   "id": "609ef188",
   "metadata": {},
   "source": [
    "we are calling like \"spam.bacon()\""
   ]
  },
  {
   "cell_type": "code",
   "execution_count": null,
   "id": "9613a9c2",
   "metadata": {},
   "outputs": [],
   "source": []
  }
 ],
 "metadata": {
  "kernelspec": {
   "display_name": "Python 3",
   "language": "python",
   "name": "python3"
  },
  "language_info": {
   "codemirror_mode": {
    "name": "ipython",
    "version": 3
   },
   "file_extension": ".py",
   "mimetype": "text/x-python",
   "name": "python",
   "nbconvert_exporter": "python",
   "pygments_lexer": "ipython3",
   "version": "3.8.8"
  }
 },
 "nbformat": 4,
 "nbformat_minor": 5
}
