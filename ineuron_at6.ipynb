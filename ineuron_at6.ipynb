{
 "cells": [
  {
   "cell_type": "markdown",
   "id": "714dfe28",
   "metadata": {},
   "source": [
    "# 1. What are escape characters, and how do you use them?"
   ]
  },
  {
   "cell_type": "markdown",
   "id": "d688bef5",
   "metadata": {},
   "source": [
    "If we want to add some special charaters like -'', \"\" -\n",
    "\n",
    " in between string the we have to use escape character like '\\' (back slash) before the character you want to escape.\n",
    "    \n",
    "Example:\n",
    "    "
   ]
  },
  {
   "cell_type": "code",
   "execution_count": 1,
   "id": "be099db8",
   "metadata": {},
   "outputs": [
    {
     "name": "stdout",
     "output_type": "stream",
     "text": [
      "hey , hi hello\n"
     ]
    }
   ],
   "source": [
    "# THIS IS NORMAL STRING\n",
    "s = \"hey , hi hello\"\n",
    "print(s)"
   ]
  },
  {
   "cell_type": "code",
   "execution_count": 2,
   "id": "d1be2fb4",
   "metadata": {},
   "outputs": [
    {
     "ename": "SyntaxError",
     "evalue": "invalid syntax (<ipython-input-2-680fe12dc102>, line 2)",
     "output_type": "error",
     "traceback": [
      "\u001b[1;36m  File \u001b[1;32m\"<ipython-input-2-680fe12dc102>\"\u001b[1;36m, line \u001b[1;32m2\u001b[0m\n\u001b[1;33m    S1 = 'Hey, Hi Don't do like this'\u001b[0m\n\u001b[1;37m                      ^\u001b[0m\n\u001b[1;31mSyntaxError\u001b[0m\u001b[1;31m:\u001b[0m invalid syntax\n"
     ]
    }
   ],
   "source": [
    "# WITH ESCAPE CHARACTERS with out (\\ - back slash)\n",
    "S1 = 'Hey, Hi Don't do like this'\n",
    "print(S1)"
   ]
  },
  {
   "cell_type": "code",
   "execution_count": 4,
   "id": "19be89fc",
   "metadata": {},
   "outputs": [
    {
     "name": "stdout",
     "output_type": "stream",
     "text": [
      "Hey, Hi Don't do like this\n"
     ]
    }
   ],
   "source": [
    "# with escape character and with (\\ - back slash)\n",
    "s1 = 'Hey, Hi Don\\'t do like this'\n",
    "print(s1)"
   ]
  },
  {
   "cell_type": "markdown",
   "id": "ad58a6ff",
   "metadata": {},
   "source": [
    "some more escape characters are there:\n",
    "    \n",
    "for Example\n",
    "    \n",
    "    \\n    ===>  it is for new linet is for \n",
    "    \\t    ===> it is for tab space\n",
    "    \\\\    ===> it is for back slash\n",
    "    \\'    ===> it is for single quote\n",
    "    \\b    ===> it is for Back space\n",
    "    \n",
    "    "
   ]
  },
  {
   "cell_type": "markdown",
   "id": "59746a51",
   "metadata": {},
   "source": [
    "# 2. What do the escape characters n and t stand for?"
   ]
  },
  {
   "cell_type": "markdown",
   "id": "e83936a2",
   "metadata": {},
   "source": [
    "\\t    ===> it is used for tab space\n",
    "\n",
    "\\n    ===> it is used for new line"
   ]
  },
  {
   "cell_type": "markdown",
   "id": "953de222",
   "metadata": {},
   "source": [
    "### \\t  ---> tab space"
   ]
  },
  {
   "cell_type": "markdown",
   "id": "e3b41943",
   "metadata": {},
   "source": [
    "if we want to give tab space in between string we can use \\t\n",
    "\n",
    "Example:"
   ]
  },
  {
   "cell_type": "code",
   "execution_count": 5,
   "id": "c2449f04",
   "metadata": {},
   "outputs": [
    {
     "name": "stdout",
     "output_type": "stream",
     "text": [
      "My name is\t'Pratyusha',  My profeesion is\t'software',   and my city name is\t'Hyderabad'\n"
     ]
    }
   ],
   "source": [
    "print('My name is\\t\\'Pratyusha\\',  My profeesion is\\t\\'software\\',   and my city name is\\t\\'Hyderabad\\'')"
   ]
  },
  {
   "cell_type": "markdown",
   "id": "bbc7fcab",
   "metadata": {},
   "source": [
    "### \\n ---> new line or multiline"
   ]
  },
  {
   "cell_type": "markdown",
   "id": "66794569",
   "metadata": {},
   "source": [
    "if we want to print the text multiline or in new line we can use \\n\n",
    "\n",
    "Example:"
   ]
  },
  {
   "cell_type": "code",
   "execution_count": 6,
   "id": "297544b3",
   "metadata": {},
   "outputs": [
    {
     "name": "stdout",
     "output_type": "stream",
     "text": [
      "My name is\t'Pratyusha',\n",
      "My profeesion is\t'software',\n",
      "and my city name is\t'Hyderabad'\n"
     ]
    }
   ],
   "source": [
    "print('My name is\\t\\'Pratyusha\\',\\nMy profeesion is\\t\\'software\\',\\nand my city name is\\t\\'Hyderabad\\'')"
   ]
  },
  {
   "cell_type": "markdown",
   "id": "89695280",
   "metadata": {},
   "source": [
    "# 3. What is the way to include backslash characters in a string?"
   ]
  },
  {
   "cell_type": "markdown",
   "id": "a04fa584",
   "metadata": {},
   "source": [
    "if we add backslash in between string it will print single slash -(\\\\)\n",
    "\n",
    "use :  it is very usefull for creating the directory if we want to print the directory path structure \n",
    "\n",
    "        in that sitiation backslash is very helpfull\n",
    "        \n",
    "Example:\n"
   ]
  },
  {
   "cell_type": "code",
   "execution_count": 7,
   "id": "0ee9df51",
   "metadata": {},
   "outputs": [
    {
     "name": "stdout",
     "output_type": "stream",
     "text": [
      "c:\\users\\pratyu\\python\\myfile.txt\n"
     ]
    }
   ],
   "source": [
    "print('c:\\\\users\\\\pratyu\\\\python\\\\myfile.txt')"
   ]
  },
  {
   "cell_type": "markdown",
   "id": "11f74b24",
   "metadata": {},
   "source": [
    "# 4. The string \"Howl's Moving Castle\" is a correct value. Why isn't the single quote character in the word Howl's not escaped a problem?"
   ]
  },
  {
   "cell_type": "markdown",
   "id": "b9bd7b5f",
   "metadata": {},
   "source": [
    "Here , in the  \"Howl's Moving Castle\" ===> ' it is not giving the error with we haven't '\\' \n",
    "\n",
    "               ---> why because we are defined that entire string with is in double quotes \" \" at string begining and ending    \n",
    "                    postions"
   ]
  },
  {
   "cell_type": "code",
   "execution_count": 8,
   "id": "62d47b8f",
   "metadata": {},
   "outputs": [
    {
     "name": "stdout",
     "output_type": "stream",
     "text": [
      "Howl's Moving Castle\n"
     ]
    }
   ],
   "source": [
    "print(\"Howl's Moving Castle\")"
   ]
  },
  {
   "cell_type": "markdown",
   "id": "51dfd5db",
   "metadata": {},
   "source": [
    "# 5. How do you write a string of newlines if you don't want to use the n character?"
   ]
  },
  {
   "cell_type": "markdown",
   "id": "ec36a0ed",
   "metadata": {},
   "source": [
    "if we don't want to use the \\n character for new lines.\n",
    "\n",
    "  ---> we can use multiline strings --> it will allows new lines with out using \\'n'\n",
    "  \n",
    "Example: \n"
   ]
  },
  {
   "cell_type": "code",
   "execution_count": 9,
   "id": "df8fcb44",
   "metadata": {},
   "outputs": [
    {
     "name": "stdout",
     "output_type": "stream",
     "text": [
      "my name is pratyusha,\n",
      "I am Indian,\n",
      "my state is Andhra Pradesh\n"
     ]
    }
   ],
   "source": [
    "print(\"\"\"my name is pratyusha,\n",
    "I am Indian,\n",
    "my state is Andhra Pradesh\"\"\")"
   ]
  },
  {
   "cell_type": "markdown",
   "id": "ec53e801",
   "metadata": {},
   "source": [
    "# 6. What are the values of the given expressions?\n",
    "# 'Hello, world!'[1]\n",
    "# 'Hello, world!'[0:5]\n",
    "# 'Hello, world!'[:5]\n",
    "# 'Hello, world!'[3:]"
   ]
  },
  {
   "cell_type": "markdown",
   "id": "57b8e138",
   "metadata": {},
   "source": [
    "###  1.  'Hello, world!'[1]\n",
    "\n",
    "    --> it is giving 1 index position value"
   ]
  },
  {
   "cell_type": "code",
   "execution_count": 10,
   "id": "9ead2ad7",
   "metadata": {},
   "outputs": [
    {
     "data": {
      "text/plain": [
       "'e'"
      ]
     },
     "execution_count": 10,
     "metadata": {},
     "output_type": "execute_result"
    }
   ],
   "source": [
    "'Hello, world!'[1]"
   ]
  },
  {
   "cell_type": "markdown",
   "id": "a78b8e81",
   "metadata": {},
   "source": [
    "###  2.  'Hello, world!'[0:5]\n",
    "\n",
    "    --> it is giving from index position 0 to 4th position why because always drops the last index position"
   ]
  },
  {
   "cell_type": "code",
   "execution_count": 11,
   "id": "14f6a3e4",
   "metadata": {},
   "outputs": [
    {
     "data": {
      "text/plain": [
       "'Hello'"
      ]
     },
     "execution_count": 11,
     "metadata": {},
     "output_type": "execute_result"
    }
   ],
   "source": [
    "'Hello, world!'[0:5]"
   ]
  },
  {
   "cell_type": "markdown",
   "id": "8c1afa20",
   "metadata": {},
   "source": [
    "###  3. 'Hello, world!'[:5]\n",
    "\n",
    "    --> it is giving from index position from statrting to 4th position why because always drops the last index position"
   ]
  },
  {
   "cell_type": "code",
   "execution_count": 12,
   "id": "db7b188d",
   "metadata": {},
   "outputs": [
    {
     "data": {
      "text/plain": [
       "'Hello'"
      ]
     },
     "execution_count": 12,
     "metadata": {},
     "output_type": "execute_result"
    }
   ],
   "source": [
    "'Hello, world!'[:5]"
   ]
  },
  {
   "cell_type": "markdown",
   "id": "f907e349",
   "metadata": {},
   "source": [
    "###  4. 'Hello, world!'[3:]\n",
    "\n",
    "    --> it is giving from index position 3rd to remaining entire string."
   ]
  },
  {
   "cell_type": "code",
   "execution_count": 13,
   "id": "c6b0f1c9",
   "metadata": {},
   "outputs": [
    {
     "data": {
      "text/plain": [
       "'lo, world!'"
      ]
     },
     "execution_count": 13,
     "metadata": {},
     "output_type": "execute_result"
    }
   ],
   "source": [
    "'Hello, world!'[3:]"
   ]
  },
  {
   "cell_type": "markdown",
   "id": "6137e59b",
   "metadata": {},
   "source": [
    "# 7. What are the values of the following expressions?\n",
    "# 'Hello'.upper()\n",
    "# 'Hello'.upper().isupper()\n",
    "# 'Hello'.upper().lower()"
   ]
  },
  {
   "cell_type": "markdown",
   "id": "6d3037f3",
   "metadata": {},
   "source": [
    "###  1. 'Hello'.upper() \n",
    "    \n",
    "    --> it will convert the string into uppper case"
   ]
  },
  {
   "cell_type": "code",
   "execution_count": 14,
   "id": "e856c61e",
   "metadata": {},
   "outputs": [
    {
     "data": {
      "text/plain": [
       "'HELLO'"
      ]
     },
     "execution_count": 14,
     "metadata": {},
     "output_type": "execute_result"
    }
   ],
   "source": [
    "'Hello'.upper()"
   ]
  },
  {
   "cell_type": "markdown",
   "id": "9bdd2b28",
   "metadata": {},
   "source": [
    "###  2. 'Hello'.upper().isupper() \n",
    "    \n",
    "    ---> it will check the given string is in uppercase or not, if yes it will give 'True' else 'False'\n",
    "    \n",
    "    ---> from the above string already we converted into upper case so it will give true"
   ]
  },
  {
   "cell_type": "code",
   "execution_count": 15,
   "id": "af38ef1a",
   "metadata": {},
   "outputs": [
    {
     "data": {
      "text/plain": [
       "True"
      ]
     },
     "execution_count": 15,
     "metadata": {},
     "output_type": "execute_result"
    }
   ],
   "source": [
    "'Hello'.upper().isupper()"
   ]
  },
  {
   "cell_type": "markdown",
   "id": "b6554ced",
   "metadata": {},
   "source": [
    "### 3. 'Hello'.upper().lower()\n",
    "\n",
    "    ---> from above statement -> \n",
    "    \n",
    "         1. we are converting the given string into upper case.\n",
    "         \n",
    "         2. then again converting into lowercase.\n",
    "         \n",
    "         3. finally the given string returns in lower case\n",
    "\n",
    "    "
   ]
  },
  {
   "cell_type": "code",
   "execution_count": 16,
   "id": "a853ad90",
   "metadata": {},
   "outputs": [
    {
     "data": {
      "text/plain": [
       "'hello'"
      ]
     },
     "execution_count": 16,
     "metadata": {},
     "output_type": "execute_result"
    }
   ],
   "source": [
    "'Hello'.upper().lower()"
   ]
  },
  {
   "cell_type": "markdown",
   "id": "e65c7e76",
   "metadata": {},
   "source": [
    "# 8. What are the values of the following expressions?\n",
    "# 'Remember, remember, the fifth of July.'.split()\n",
    "# '-'.join('There can only one.'.split())"
   ]
  },
  {
   "cell_type": "markdown",
   "id": "1bcff0fc",
   "metadata": {},
   "source": [
    "###  1. 'Remember, remember, the fifth of July.'.split()\n",
    "\n",
    "    --> it will split the given sentence into multiple strings where we have the space inbetween sentence"
   ]
  },
  {
   "cell_type": "code",
   "execution_count": 17,
   "id": "7eaebb91",
   "metadata": {},
   "outputs": [
    {
     "data": {
      "text/plain": [
       "['Remember,', 'remember,', 'the', 'fifth', 'of', 'July.']"
      ]
     },
     "execution_count": 17,
     "metadata": {},
     "output_type": "execute_result"
    }
   ],
   "source": [
    "'Remember, remember, the fifth of July.'.split()"
   ]
  },
  {
   "cell_type": "markdown",
   "id": "b051b283",
   "metadata": {},
   "source": [
    "### 2. '-'.join('There can only one.'.split())\n",
    "\n",
    "    --> it will join the strings from the given sentence with '-' where we have space inbetween strings"
   ]
  },
  {
   "cell_type": "code",
   "execution_count": 18,
   "id": "8167e9eb",
   "metadata": {},
   "outputs": [
    {
     "data": {
      "text/plain": [
       "'There-can-only-one.'"
      ]
     },
     "execution_count": 18,
     "metadata": {},
     "output_type": "execute_result"
    }
   ],
   "source": [
    "'-'.join('There can only one.'.split())"
   ]
  },
  {
   "cell_type": "markdown",
   "id": "11007ef0",
   "metadata": {},
   "source": [
    "# 9. What are the methods for right-justifying, left-justifying, and centering a string?"
   ]
  },
  {
   "cell_type": "code",
   "execution_count": 19,
   "id": "6d607d68",
   "metadata": {},
   "outputs": [
    {
     "name": "stdout",
     "output_type": "stream",
     "text": [
      "the main string is :   I love my India \n"
     ]
    }
   ],
   "source": [
    "my_string = \" I love my India \"\n",
    "print('the main string is : ',my_string)"
   ]
  },
  {
   "cell_type": "markdown",
   "id": "53c55083",
   "metadata": {},
   "source": [
    "## right-justifying\n",
    "\n",
    "    1. for right-justifying we can use rjust() function.\n",
    "    2. rjust() - \n",
    "            1. this function is used for justifying the string right side  \n",
    "            2. based on the width size and remaining blank space will allocate with giving filling character\n",
    "\n",
    "Example :"
   ]
  },
  {
   "cell_type": "code",
   "execution_count": 20,
   "id": "9d08e789",
   "metadata": {},
   "outputs": [
    {
     "name": "stdout",
     "output_type": "stream",
     "text": [
      "the right-justifying string is :  ########################################### I love my India \n"
     ]
    }
   ],
   "source": [
    "print(\"the right-justifying string is : \", my_string.rjust(60, '#'))"
   ]
  },
  {
   "cell_type": "markdown",
   "id": "c30fe2fb",
   "metadata": {},
   "source": [
    "## left-justifying\n",
    "\n",
    "    1. for left-justifying we can use ljust() function.\n",
    "    2. ljust() - \n",
    "            1. this function is used for justifying the string left side  \n",
    "            2. based on the width size and remaining blank space will allocate with giving filling character\n",
    "            \n",
    "Example :"
   ]
  },
  {
   "cell_type": "code",
   "execution_count": 21,
   "id": "a2b67700",
   "metadata": {},
   "outputs": [
    {
     "name": "stdout",
     "output_type": "stream",
     "text": [
      "the left-justifying string is :   I love my India @@@@@@@@@@@@@@@@@@@@@@@@@@@@@@@@@@@@@@@@@@@@@@@@@@@@@\n"
     ]
    }
   ],
   "source": [
    "print(\"the left-justifying string is : \", my_string.ljust(70,'@'))"
   ]
  },
  {
   "cell_type": "markdown",
   "id": "a12759de",
   "metadata": {},
   "source": [
    "## centering"
   ]
  },
  {
   "cell_type": "markdown",
   "id": "41423afe",
   "metadata": {},
   "source": [
    "1. for centering we can use center() function.\n",
    "2. center() - \n",
    "        1. this function is used for justifying the string in  center position\n",
    "        2. based on the width size and remaining blank space will allocate with giving filling character"
   ]
  },
  {
   "cell_type": "code",
   "execution_count": 22,
   "id": "c7901c9c",
   "metadata": {},
   "outputs": [
    {
     "name": "stdout",
     "output_type": "stream",
     "text": [
      "the centering string is :  @@@@@@@@@@@@@@@@@@@@@@@@@@@@@@@@@@@@@@@@@ I love my India @@@@@@@@@@@@@@@@@@@@@@@@@@@@@@@@@@@@@@@@@@\n"
     ]
    }
   ],
   "source": [
    "print(\"the centering string is : \", my_string.center(100,'@'))"
   ]
  },
  {
   "cell_type": "markdown",
   "id": "8b739391",
   "metadata": {},
   "source": [
    "# 10. What is the best way to remove whitespace characters from the start or end?"
   ]
  },
  {
   "cell_type": "markdown",
   "id": "92f03437",
   "metadata": {},
   "source": [
    "the best way is to remove whitespace characters from start or end -> in three ways \n",
    "\n",
    "        --> 1. lstrip()\n",
    "        --> 2. rstrip()\n",
    "        --> 3. strip()\n",
    "       \n",
    "Examples : "
   ]
  },
  {
   "cell_type": "code",
   "execution_count": 23,
   "id": "c696af81",
   "metadata": {},
   "outputs": [
    {
     "name": "stdout",
     "output_type": "stream",
     "text": [
      "                     I Love My India                       \n"
     ]
    }
   ],
   "source": [
    "my_str = \"                     I Love My India                       \"\n",
    "print(my_str)"
   ]
  },
  {
   "cell_type": "markdown",
   "id": "56adb752",
   "metadata": {},
   "source": [
    "## lstrip() :\n",
    "\n",
    "    1. lstrip() --> it is used for removing the space at left side of the giving string.\n",
    "    "
   ]
  },
  {
   "cell_type": "code",
   "execution_count": 24,
   "id": "7d8f52f8",
   "metadata": {},
   "outputs": [
    {
     "data": {
      "text/plain": [
       "'I Love My India                       '"
      ]
     },
     "execution_count": 24,
     "metadata": {},
     "output_type": "execute_result"
    }
   ],
   "source": [
    "my_str.lstrip()"
   ]
  },
  {
   "cell_type": "markdown",
   "id": "118ee9c3",
   "metadata": {},
   "source": [
    "## rstrip() :\n",
    "\n",
    "    1. rstrip() --> it is used for removing the space at right side of the giving string."
   ]
  },
  {
   "cell_type": "code",
   "execution_count": 25,
   "id": "4ad745b3",
   "metadata": {},
   "outputs": [
    {
     "data": {
      "text/plain": [
       "'                     I Love My India'"
      ]
     },
     "execution_count": 25,
     "metadata": {},
     "output_type": "execute_result"
    }
   ],
   "source": [
    "my_str.rstrip()"
   ]
  },
  {
   "cell_type": "markdown",
   "id": "d71db6bd",
   "metadata": {},
   "source": [
    "## strip() :\n",
    "\n",
    "    1. strip() --> it is used for removing the space at left side of the giving string and right side of the string also.\n",
    "    "
   ]
  },
  {
   "cell_type": "code",
   "execution_count": 26,
   "id": "b799f897",
   "metadata": {},
   "outputs": [
    {
     "data": {
      "text/plain": [
       "'I Love My India'"
      ]
     },
     "execution_count": 26,
     "metadata": {},
     "output_type": "execute_result"
    }
   ],
   "source": [
    "my_str.strip()"
   ]
  },
  {
   "cell_type": "code",
   "execution_count": null,
   "id": "4e00ce55",
   "metadata": {},
   "outputs": [],
   "source": []
  }
 ],
 "metadata": {
  "kernelspec": {
   "display_name": "Python 3",
   "language": "python",
   "name": "python3"
  },
  "language_info": {
   "codemirror_mode": {
    "name": "ipython",
    "version": 3
   },
   "file_extension": ".py",
   "mimetype": "text/x-python",
   "name": "python",
   "nbconvert_exporter": "python",
   "pygments_lexer": "ipython3",
   "version": "3.8.8"
  }
 },
 "nbformat": 4,
 "nbformat_minor": 5
}
