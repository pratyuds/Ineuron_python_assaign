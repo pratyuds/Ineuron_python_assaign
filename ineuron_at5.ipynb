{
 "cells": [
  {
   "cell_type": "markdown",
   "id": "377fb8e8",
   "metadata": {},
   "source": [
    "# 1. What does an empty dictionary's code look like?"
   ]
  },
  {
   "cell_type": "markdown",
   "id": "e1ca10c1",
   "metadata": {},
   "source": [
    "Always we can define dictionary with in the two curly brackets : {}\n",
    "\n",
    "### Example:\n",
    "\n",
    "     Empty dictionary is nothing but with out values we can define with empty curly brackets."
   ]
  },
  {
   "cell_type": "code",
   "execution_count": 1,
   "id": "5978c73e",
   "metadata": {},
   "outputs": [
    {
     "name": "stdout",
     "output_type": "stream",
     "text": [
      "{} <class 'dict'>\n"
     ]
    }
   ],
   "source": [
    "d = {}\n",
    "print(d , type(d))\n"
   ]
  },
  {
   "cell_type": "markdown",
   "id": "7a36bb82",
   "metadata": {},
   "source": [
    "# 2. What is the value of a dictionary value with the key 'foo' and the value 42?"
   ]
  },
  {
   "cell_type": "code",
   "execution_count": 2,
   "id": "8231a583",
   "metadata": {},
   "outputs": [
    {
     "name": "stdout",
     "output_type": "stream",
     "text": [
      "{'foo': 42}\n",
      "dict_keys(['foo'])\n"
     ]
    }
   ],
   "source": [
    "d1 = {'foo':42}\n",
    "print(d1)\n",
    "print(d1.keys())"
   ]
  },
  {
   "cell_type": "markdown",
   "id": "57c6cc12",
   "metadata": {},
   "source": [
    "from the above example the 'foo' values is 42, we can retrive that value using using keys function"
   ]
  },
  {
   "cell_type": "markdown",
   "id": "3cae7747",
   "metadata": {},
   "source": [
    "# 3. What is the most significant distinction between a dictionary and a list?"
   ]
  },
  {
   "cell_type": "markdown",
   "id": "9d07b360",
   "metadata": {},
   "source": [
    "### LIST : \n",
    "    \n",
    "    1. List is a collection of ordered type.\n",
    "    2. inside list the values will store in index based format.\n",
    "    3. list we can denote with  '[]'\n",
    "    4. example : [1,2,'hi',True,10.5]\n",
    "    5. the indices of list are integers and it's start from '0' always\n",
    "    6. list always allows duplicates.\n",
    "    7. list elements seperated with ',' always\n",
    "    8. list object is created using list() function\n",
    "    9. here, we can able to sort the values uisng sort() function either in assending order or decending order.\n",
    "    \n",
    "    \n",
    "    \n",
    "### DICTIONARY:\n",
    "    \n",
    "    1. Dictionary is a collection of unordered type.\n",
    "    2. In dictinary we can the the data like key and value pair format.\n",
    "    3. dictionary we can denote with '{}'\n",
    "    4. example: {'a':12,'b':20,'c':'fine'}\n",
    "    5. the keys of dictionary is any data type we can able to give either integers or strings\n",
    "    6. dictionary does not allow duplicates with same keys\n",
    "    7. while in the dictionary key and value will seperated with ':' and each key value is seperated with ','\n",
    "    8. dictionary object is created using dict() function\n",
    "    9. but, here in dictionary sort() function sorts the keys in dictionary by default.\n",
    "    \n",
    "    \n",
    "    "
   ]
  },
  {
   "cell_type": "markdown",
   "id": "e800d62e",
   "metadata": {},
   "source": [
    "# 4. What happens if you try to access spam['foo'] if spam is {'bar' : 100}?"
   ]
  },
  {
   "cell_type": "markdown",
   "id": "1c26c6d6",
   "metadata": {},
   "source": [
    "We will get key error \n",
    "    \n",
    "### Example :"
   ]
  },
  {
   "cell_type": "code",
   "execution_count": 3,
   "id": "2445b5fc",
   "metadata": {},
   "outputs": [
    {
     "data": {
      "text/plain": [
       "{'bar': 100}"
      ]
     },
     "execution_count": 3,
     "metadata": {},
     "output_type": "execute_result"
    }
   ],
   "source": [
    "spam = {'bar':100}\n",
    "spam"
   ]
  },
  {
   "cell_type": "code",
   "execution_count": 4,
   "id": "b88de603",
   "metadata": {},
   "outputs": [
    {
     "ename": "KeyError",
     "evalue": "'foo'",
     "output_type": "error",
     "traceback": [
      "\u001b[1;31m---------------------------------------------------------------------------\u001b[0m",
      "\u001b[1;31mKeyError\u001b[0m                                  Traceback (most recent call last)",
      "\u001b[1;32m<ipython-input-4-9b5a94d1de8d>\u001b[0m in \u001b[0;36m<module>\u001b[1;34m\u001b[0m\n\u001b[1;32m----> 1\u001b[1;33m \u001b[0mspam\u001b[0m\u001b[1;33m[\u001b[0m\u001b[1;34m'foo'\u001b[0m\u001b[1;33m]\u001b[0m\u001b[1;33m\u001b[0m\u001b[1;33m\u001b[0m\u001b[0m\n\u001b[0m",
      "\u001b[1;31mKeyError\u001b[0m: 'foo'"
     ]
    }
   ],
   "source": [
    "spam['foo']"
   ]
  },
  {
   "cell_type": "markdown",
   "id": "e853bd1b",
   "metadata": {},
   "source": [
    "### Solution : "
   ]
  },
  {
   "cell_type": "markdown",
   "id": "61c5151f",
   "metadata": {},
   "source": [
    "we can able to retrive dictionary value with correct existing key, from this above example we gave key is 'bar'"
   ]
  },
  {
   "cell_type": "code",
   "execution_count": 5,
   "id": "930a7213",
   "metadata": {},
   "outputs": [
    {
     "data": {
      "text/plain": [
       "100"
      ]
     },
     "execution_count": 5,
     "metadata": {},
     "output_type": "execute_result"
    }
   ],
   "source": [
    "spam['bar']"
   ]
  },
  {
   "cell_type": "markdown",
   "id": "f20742ce",
   "metadata": {},
   "source": [
    "# 5. If a dictionary is stored in spam, what is the difference between the expressions 'cat' in spam and 'cat' in spam.keys()?"
   ]
  },
  {
   "cell_type": "markdown",
   "id": "dd2718ed",
   "metadata": {},
   "source": [
    "there is no difference in between 'cat' in spam and 'cat' in spam.keys() :\n",
    "\n",
    "    -> both statements gives same result that key existed or not in the spam. if existed it returns 'True' else 'False'\n",
    "    \n",
    "Example:\n",
    "    "
   ]
  },
  {
   "cell_type": "code",
   "execution_count": 6,
   "id": "fddfb622",
   "metadata": {},
   "outputs": [
    {
     "name": "stdout",
     "output_type": "stream",
     "text": [
      "{'cat': 66}\n"
     ]
    }
   ],
   "source": [
    "spam = {'cat':66}\n",
    "print(spam)"
   ]
  },
  {
   "cell_type": "code",
   "execution_count": 7,
   "id": "aada1389",
   "metadata": {},
   "outputs": [
    {
     "data": {
      "text/plain": [
       "True"
      ]
     },
     "execution_count": 7,
     "metadata": {},
     "output_type": "execute_result"
    }
   ],
   "source": [
    "'cat' in spam"
   ]
  },
  {
   "cell_type": "code",
   "execution_count": 8,
   "id": "199d6c76",
   "metadata": {},
   "outputs": [
    {
     "data": {
      "text/plain": [
       "True"
      ]
     },
     "execution_count": 8,
     "metadata": {},
     "output_type": "execute_result"
    }
   ],
   "source": [
    "'cat' in spam.keys()"
   ]
  },
  {
   "cell_type": "markdown",
   "id": "5f596563",
   "metadata": {},
   "source": [
    "# 6. If a dictionary is stored in spam, what is the difference between the expressions 'cat' in spam and 'cat' in spam.values()?"
   ]
  },
  {
   "cell_type": "markdown",
   "id": "708d75c4",
   "metadata": {},
   "source": [
    "there is a difference ib between 'cat' in spam and 'cat' in spam.values() :\n",
    "\n",
    "   1. -> 'cat' in spam will check that 'cat' is existed or not in spam keys.\n",
    "   2. -> 'cat' in spam.values() will check that 'cat' is existed or not in spam values.\n",
    "    \n",
    "    -> from first statement if 'cat' is existed in spam keys it will return 'True' else 'False'\n",
    "    \n",
    "    -> from second statement if 'cat' is existed in spam values it will return 'True' else 'False'\n",
    "    \n",
    "Example:\n",
    "    "
   ]
  },
  {
   "cell_type": "code",
   "execution_count": 9,
   "id": "12140b25",
   "metadata": {},
   "outputs": [
    {
     "name": "stdout",
     "output_type": "stream",
     "text": [
      "{'cat': 66}\n"
     ]
    }
   ],
   "source": [
    "spam ={'cat':66}\n",
    "print(spam)"
   ]
  },
  {
   "cell_type": "code",
   "execution_count": 10,
   "id": "e1dca002",
   "metadata": {},
   "outputs": [
    {
     "data": {
      "text/plain": [
       "True"
      ]
     },
     "execution_count": 10,
     "metadata": {},
     "output_type": "execute_result"
    }
   ],
   "source": [
    "# 1.\n",
    "\n",
    "'cat' in spam"
   ]
  },
  {
   "cell_type": "code",
   "execution_count": 11,
   "id": "a8eb3ba5",
   "metadata": {},
   "outputs": [
    {
     "data": {
      "text/plain": [
       "False"
      ]
     },
     "execution_count": 11,
     "metadata": {},
     "output_type": "execute_result"
    }
   ],
   "source": [
    "#2. \n",
    "\n",
    "'cat' in spam.values()"
   ]
  },
  {
   "cell_type": "markdown",
   "id": "a36e212c",
   "metadata": {},
   "source": [
    "# 7. What is a shortcut for the following code?\n",
    "\n",
    "# if 'color' not in spam:\n",
    "#    spam['color'] = 'black'"
   ]
  },
  {
   "cell_type": "markdown",
   "id": "64c7d1d8",
   "metadata": {},
   "source": [
    "for shortcut of the above code we can use setdefault() function:\n",
    "    \n",
    "    from using that if we don't have 'color' in spam:\n",
    "    \n",
    "     we can easily able to fix it using following statement\n",
    "        "
   ]
  },
  {
   "cell_type": "code",
   "execution_count": 12,
   "id": "4d753a7d",
   "metadata": {},
   "outputs": [
    {
     "data": {
      "text/plain": [
       "'black'"
      ]
     },
     "execution_count": 12,
     "metadata": {},
     "output_type": "execute_result"
    }
   ],
   "source": [
    "spam.setdefault('color','black')"
   ]
  },
  {
   "cell_type": "code",
   "execution_count": 13,
   "id": "5b4aac04",
   "metadata": {},
   "outputs": [
    {
     "data": {
      "text/plain": [
       "{'cat': 66, 'color': 'black'}"
      ]
     },
     "execution_count": 13,
     "metadata": {},
     "output_type": "execute_result"
    }
   ],
   "source": [
    "spam"
   ]
  },
  {
   "cell_type": "markdown",
   "id": "0c5c63ec",
   "metadata": {},
   "source": [
    "# 8. How do you \"pretty print\" dictionary values using which module and function?"
   ]
  },
  {
   "cell_type": "markdown",
   "id": "c812f0c3",
   "metadata": {},
   "source": [
    "Using pprint function we can able to print the dictionary values \n",
    "\n",
    "in a very clear structure and easy understanding way with user flexible.\n",
    "\n",
    "1. with out pretty print --> it gives the dictionary in single line and very clumsy\n",
    "2. with pretty print --> it gives the dictionary in an easy understanding way with flexibility"
   ]
  },
  {
   "cell_type": "markdown",
   "id": "7e5879d0",
   "metadata": {},
   "source": [
    "### for that first we need to install and import the pprint function module"
   ]
  },
  {
   "cell_type": "code",
   "execution_count": 14,
   "id": "6ba4fdfd",
   "metadata": {},
   "outputs": [
    {
     "name": "stdout",
     "output_type": "stream",
     "text": [
      "Requirement already satisfied: pprintpp in c:\\users\\praty\\anaconda3\\lib\\site-packages (0.4.0)\n"
     ]
    }
   ],
   "source": [
    "!pip install pprintpp"
   ]
  },
  {
   "cell_type": "code",
   "execution_count": 15,
   "id": "0dbf7001",
   "metadata": {},
   "outputs": [],
   "source": [
    "import pprint"
   ]
  },
  {
   "cell_type": "code",
   "execution_count": 16,
   "id": "27296d3a",
   "metadata": {},
   "outputs": [],
   "source": [
    "mydict = [{'Name': 'pratyusha', 'Age': 30, 'Country': 'India', 'City':'Hyderabad'},\n",
    "  {'Name': 'Chahit', 'Age': 5, 'Country': 'India', 'City':'Hyderabad'},\n",
    "  {'Name': 'Maruthi', 'Age': 50, 'Country': 'India', 'City':'Vijayawada'},\n",
    "  {'Name': 'Naveen', 'Age': 32, 'Country': 'India','City':'Mumbai'},\n",
    "  {'Name': 'srinu', 'Age':58, 'Country':'India','City':'Vijayawada'}]"
   ]
  },
  {
   "cell_type": "markdown",
   "id": "daefe600",
   "metadata": {},
   "source": [
    "### without pretty print"
   ]
  },
  {
   "cell_type": "code",
   "execution_count": 17,
   "id": "46ea72c7",
   "metadata": {},
   "outputs": [
    {
     "name": "stdout",
     "output_type": "stream",
     "text": [
      "[{'Name': 'pratyusha', 'Age': 30, 'Country': 'India', 'City': 'Hyderabad'}, {'Name': 'Chahit', 'Age': 5, 'Country': 'India', 'City': 'Hyderabad'}, {'Name': 'Maruthi', 'Age': 50, 'Country': 'India', 'City': 'Vijayawada'}, {'Name': 'Naveen', 'Age': 32, 'Country': 'India', 'City': 'Mumbai'}, {'Name': 'srinu', 'Age': 58, 'Country': 'India', 'City': 'Vijayawada'}]\n"
     ]
    }
   ],
   "source": [
    "print(mydict)"
   ]
  },
  {
   "cell_type": "markdown",
   "id": "77ce8957",
   "metadata": {},
   "source": [
    "### with pretty print"
   ]
  },
  {
   "cell_type": "code",
   "execution_count": 18,
   "id": "365a55d8",
   "metadata": {},
   "outputs": [
    {
     "name": "stdout",
     "output_type": "stream",
     "text": [
      "[{'Age': 30, 'City': 'Hyderabad', 'Country': 'India', 'Name': 'pratyusha'},\n",
      " {'Age': 5, 'City': 'Hyderabad', 'Country': 'India', 'Name': 'Chahit'},\n",
      " {'Age': 50, 'City': 'Vijayawada', 'Country': 'India', 'Name': 'Maruthi'},\n",
      " {'Age': 32, 'City': 'Mumbai', 'Country': 'India', 'Name': 'Naveen'},\n",
      " {'Age': 58, 'City': 'Vijayawada', 'Country': 'India', 'Name': 'srinu'}]\n"
     ]
    }
   ],
   "source": [
    "pprint.pprint(mydict)"
   ]
  },
  {
   "cell_type": "code",
   "execution_count": null,
   "id": "789ae995",
   "metadata": {},
   "outputs": [],
   "source": []
  }
 ],
 "metadata": {
  "kernelspec": {
   "display_name": "Python 3",
   "language": "python",
   "name": "python3"
  },
  "language_info": {
   "codemirror_mode": {
    "name": "ipython",
    "version": 3
   },
   "file_extension": ".py",
   "mimetype": "text/x-python",
   "name": "python",
   "nbconvert_exporter": "python",
   "pygments_lexer": "ipython3",
   "version": "3.8.8"
  }
 },
 "nbformat": 4,
 "nbformat_minor": 5
}
