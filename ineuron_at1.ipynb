{
 "cells": [
  {
   "cell_type": "markdown",
   "id": "1603637e",
   "metadata": {},
   "source": [
    "## 1. In the below elements which of them are values or an expression? eg:- values can be integer or string and expressions will be mathematical operators."
   ]
  },
  {
   "cell_type": "code",
   "execution_count": null,
   "id": "97a15254",
   "metadata": {},
   "outputs": [],
   "source": [
    "*        -> Mathematical operator\n",
    "\"hello\"  -> String\n",
    "-87.8    -> integer\n",
    "-        -> Mathematical operator \n",
    "/        -> Mathematical operator\n",
    "+        -> Mathematical operator\n",
    "6        -> integer\n"
   ]
  },
  {
   "cell_type": "markdown",
   "id": "ecaab585",
   "metadata": {},
   "source": [
    "## 2. What is the difference between string and variable?"
   ]
  },
  {
   "cell_type": "code",
   "execution_count": null,
   "id": "b3623174",
   "metadata": {},
   "outputs": [],
   "source": [
    "string => string is an type of information for ex: \"hello\"\n",
    "variable => variable is nothing but we can store the information in some where in the memory.\n",
    "                a = \"hello\";\n",
    "                Here, we are calling 'a' is an variable.\n",
    "                      \"hello\" is an string  "
   ]
  },
  {
   "cell_type": "markdown",
   "id": "c6c3afa2",
   "metadata": {},
   "source": [
    "## 3. Describe three different data types."
   ]
  },
  {
   "cell_type": "code",
   "execution_count": null,
   "id": "44c04c5d",
   "metadata": {},
   "outputs": [],
   "source": [
    "int => integer is nothing but numbers either postive or negative numbers. ex: 1,2,3,-4,-6\n",
    "float => float is nothing but decimal numbers. ex: 23.56,43.87\n",
    "string => string is nothing but single character or combination of characters\n",
    "            and we can denote with in the single quotes ('') or double quotes(\"\") ex: \"hello\",'ineuron'\n",
    "Boolean => boolean is nothing but True or False\n",
    "list => list is nothing but we can define any number of perameters and any type of perameters with in the square brackets \"              []\"\n",
    "       list is an mutable and list allows duplicate values\n",
    "       \"mutable\" is nothing but we can able to do add, delete, update the list\n",
    "       ex: [1,3,4,True,34.87,\"hello\"]\n",
    "tuple => tuple is nothing but we can define any number of perameters and any type of perameters with in the open close brackets \"         ()\"\n",
    "       tuple is an immutable and tuple allows duplicates\n",
    "       \"immutable\" is nothing but we cannot able to do perform the operations like( add, delete,update)\n",
    "dict => dictionary is nothing but we define the values in key : value pair with in the \"{}\"\n",
    "        dictionary is mutable and cannot allow duplicates.\n",
    "        it will allows any type of perameters\n",
    "        ex: a = {\"a\":1,\"b\":\"hi\",\"c\":23.76}\n",
    "sets => set is immutable and it not allows duplicates. we can define the the perameters with in the '{}'.\n",
    "         ex: {1,2,3,4,\"hello\"}\n",
    "            "
   ]
  },
  {
   "cell_type": "markdown",
   "id": "6bcaf74a",
   "metadata": {},
   "source": [
    "## 4. What is an expression made up of? What do all expressions do?\n"
   ]
  },
  {
   "cell_type": "code",
   "execution_count": null,
   "id": "c71d234b",
   "metadata": {},
   "outputs": [],
   "source": [
    "Expression is nothing but it's a combination of opearators and operaends.\n",
    "Expression will do perform some operation as per the precedence, and it gives some other value.\n",
    "    for ex: a=10\n",
    "            b=20\n",
    "            c = a+b\n",
    "            print(c)\n",
    "            30\n",
    "            here, we have arthemetic operator (addition) is there\n",
    "we have different types of expressions are there like\n",
    "    1. Arthemetic Expressions:\n",
    "        a =10,b=20\n",
    "        add = a+b\n",
    "        sub = b-a\n",
    "        mul = a*b\n",
    "        div =a/b\n",
    "        (ex : we have additon, subtraction,multiplication,division like we have some more expressions are there )\n",
    "    2. Integral Expressions => (it will give only integer results after performing operation \n",
    "                             ex : a =20,b =10.5\n",
    "                                  c = a+int(a+b) =30)\n",
    "    3. Floating Expressions => (it will give only floating value results after performing operation\n",
    "                              ex: a=10,b =3\n",
    "                              c = a/b = 3.33)\n",
    "    4. Relational Expressions => (it will perform if we have arthemetic operaends, first calculated those first, then it compare both \n",
    "                              values using expression then it returns boolean output.\n",
    "                               Ex: a =10, b=20\n",
    "                               c =(a+b)>=(b-a) = True)\n",
    "    5. Logical Expressions => (it compare both sides of expressions and then if\n",
    "                                 a = (5==4)\n",
    "                                 b = (6 > 2)\n",
    "                           ex : 1. for and operator if both expression having True then it gives True otherwise False\n",
    "                                    a and b = False\n",
    "                                2. for or operator if atleast any one expression having True then it gives True otherwise False\n",
    "                                    a or b = True\n",
    "                                3. for not operator if condition is False it gives True\n",
    "  like we have so many expressions"
   ]
  },
  {
   "cell_type": "markdown",
   "id": "6312581d",
   "metadata": {},
   "source": [
    "## 5. This assignment statements, like spam = 10. What is the difference between an expression and a statement?\n"
   ]
  },
  {
   "cell_type": "code",
   "execution_count": null,
   "id": "9f1adf86",
   "metadata": {},
   "outputs": [],
   "source": [
    "Expression => 1.Expression is nothing but it's a aombination of operators oand values.\n",
    "              2. we can able to perform operations on expressions.\n",
    "                ex: a=10,b=20, c=a+b\n",
    "                   here a+b is an expression used to reduce the number of values to single value.\n",
    "statement => statement is nothing but just define a statement. we cannot to do any type type operations on statements."
   ]
  },
  {
   "cell_type": "markdown",
   "id": "edfd0f61",
   "metadata": {},
   "source": [
    "## 6. After running the following code, what does the variable bacon contain?\n"
   ]
  },
  {
   "cell_type": "code",
   "execution_count": null,
   "id": "390cfc4b",
   "metadata": {},
   "outputs": [],
   "source": [
    "bacon = 22\n",
    "bacon + 1\n",
    "\n",
    "becon contain 22 here. why because just we are adding 1 with bacon, but we are doing reassignment, \n",
    "until reassaignment bacon have 22 only"
   ]
  },
  {
   "cell_type": "markdown",
   "id": "8082ddeb",
   "metadata": {},
   "source": [
    "## 7. What should the values of the following two terms be?"
   ]
  },
  {
   "cell_type": "code",
   "execution_count": 2,
   "id": "c2084d92",
   "metadata": {},
   "outputs": [
    {
     "data": {
      "text/plain": [
       "'spamspamspam'"
      ]
     },
     "execution_count": 2,
     "metadata": {},
     "output_type": "execute_result"
    }
   ],
   "source": [
    "\n",
    "'spam' + 'spamspam'\n"
   ]
  },
  {
   "cell_type": "code",
   "execution_count": 3,
   "id": "47ed0506",
   "metadata": {},
   "outputs": [
    {
     "data": {
      "text/plain": [
       "'spamspamspam'"
      ]
     },
     "execution_count": 3,
     "metadata": {},
     "output_type": "execute_result"
    }
   ],
   "source": [
    "'spam' *3       "
   ]
  },
  {
   "cell_type": "markdown",
   "id": "0cf8e569",
   "metadata": {},
   "source": [
    "## 8. Why is eggs a valid variable name while 100 is invalid?\n",
    "\n"
   ]
  },
  {
   "cell_type": "code",
   "execution_count": null,
   "id": "a5e101bd",
   "metadata": {},
   "outputs": [],
   "source": [
    "Eggs = it is avalid variable -it is string -(why because python takes always strings as a varible name)\n",
    "100  = it is invalid variable - interger - (why because pyhton doesn't allow the integers as an variable name)"
   ]
  },
  {
   "cell_type": "markdown",
   "id": "6fc14882",
   "metadata": {},
   "source": [
    "## 9. What three functions can be used to get the integer, floating-point number, or string version of a value?\n"
   ]
  },
  {
   "cell_type": "code",
   "execution_count": null,
   "id": "9dcceedf",
   "metadata": {},
   "outputs": [],
   "source": [
    "integer - we can define like int() - 1.this function is used for taking the integer values means either positive or negative.\n",
    "                                     2. and also we can use for type casting also. (we can able to convert float to integer)\n",
    "                                     ex: 1,2,-23,21,0\n",
    "floating-point -  we can define like float() - 1.this function is used for taking the float values means either postive or negative.\n",
    "                                               2. and also we can used for type casting also. (we can able to convert integer to float)\n",
    "                                               ex: 10.5,21.34,0.4,-32.21,-12.32\n",
    "string version - we can define like str() -  1.this function is used for taking the string values means either characters or \n",
    "                                                group of characters.\n",
    "                                             2. and also we can used for type casting also.( we can able to convert integer or float to string)\n",
    "                                             3. and specifically we need to define strings with in the single quotes ('') or double quotes (\"\")\n",
    "                                             ex: 'a','abcd','ineuron'\n",
    "                                             \n",
    "            "
   ]
  },
  {
   "cell_type": "markdown",
   "id": "3f36138b",
   "metadata": {},
   "source": [
    "## 10. Why does this expression cause an error? How can you fix it?\n"
   ]
  },
  {
   "cell_type": "code",
   "execution_count": null,
   "id": "a6f3a0c6",
   "metadata": {},
   "outputs": [],
   "source": [
    "'I have eaten '+99+'burritos.' - it gives type error (\"TypeError: can only concatenate str (not \"int\") to str\")\n",
    "reason - here we are trying to add strings with integer, that's why it is giving error\n",
    "\n",
    "solution is => 1.'I have eaten '+\"99\"+'burritos.' we need to take the integer in string format means define integer in single or                     double quotes-\n",
    "                  response is - 'I have eaten 99burritos.'\n",
    "              2.'I have eaten '+str(99)+'burritos.' here we are applying type conversion from integer to string.\n",
    "                response is  -  'I have eaten 99burritos.'\n",
    "\n"
   ]
  },
  {
   "cell_type": "code",
   "execution_count": null,
   "id": "b2be5b38",
   "metadata": {},
   "outputs": [],
   "source": []
  }
 ],
 "metadata": {
  "kernelspec": {
   "display_name": "Python 3",
   "language": "python",
   "name": "python3"
  },
  "language_info": {
   "codemirror_mode": {
    "name": "ipython",
    "version": 3
   },
   "file_extension": ".py",
   "mimetype": "text/x-python",
   "name": "python",
   "nbconvert_exporter": "python",
   "pygments_lexer": "ipython3",
   "version": "3.8.8"
  }
 },
 "nbformat": 4,
 "nbformat_minor": 5
}
