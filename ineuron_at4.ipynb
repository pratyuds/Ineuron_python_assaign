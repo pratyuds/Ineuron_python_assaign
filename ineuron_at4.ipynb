{
 "cells": [
  {
   "cell_type": "markdown",
   "id": "f833c6f1",
   "metadata": {},
   "source": [
    "# 1. What exactly is []?"
   ]
  },
  {
   "cell_type": "markdown",
   "id": "5667c470",
   "metadata": {},
   "source": [
    "1. These are square brackets , in python this square brackets we can use for define a list\n",
    "2. we can called it as empty list.\n",
    "3. in the above empty list we doesn't have items why beacuse it is empty.\n",
    "4. this is similar to empty string ''\n"
   ]
  },
  {
   "cell_type": "markdown",
   "id": "8435b9e8",
   "metadata": {},
   "source": [
    "# 2. In a list of values stored in a variable called spam, how would you assign the value &#39;hello&#39; as the third value? (Assume [2, 4, 6, 8, 10] are in spam.)"
   ]
  },
  {
   "cell_type": "markdown",
   "id": "00c1c58f",
   "metadata": {},
   "source": [
    "In the below way we can able to define a list for the above example:\n",
    "    \n",
    "    "
   ]
  },
  {
   "cell_type": "code",
   "execution_count": 1,
   "id": "688a5bea",
   "metadata": {},
   "outputs": [],
   "source": [
    "spam = [2,4,6,8,10]"
   ]
  },
  {
   "cell_type": "markdown",
   "id": "7052a003",
   "metadata": {},
   "source": [
    "1. From the above difined spam list 3rd value in the sense as per index levels it's starts fro 0,1,2.. so on\n",
    "2. From the above defined spa list as per index levels 3rd value is 6.\n",
    "3. we need to replace that value with hello in the bellow way."
   ]
  },
  {
   "cell_type": "code",
   "execution_count": 2,
   "id": "a2399d61",
   "metadata": {},
   "outputs": [],
   "source": [
    "spam[2] = 'hello'"
   ]
  },
  {
   "cell_type": "code",
   "execution_count": 3,
   "id": "df549646",
   "metadata": {},
   "outputs": [
    {
     "data": {
      "text/plain": [
       "[2, 4, 'hello', 8, 10]"
      ]
     },
     "execution_count": 3,
     "metadata": {},
     "output_type": "execute_result"
    }
   ],
   "source": [
    "spam"
   ]
  },
  {
   "cell_type": "markdown",
   "id": "903d41bd",
   "metadata": {},
   "source": [
    "# Let's pretend the spam includes the list ['a', 'b', 'c', 'd'] for the next three queries."
   ]
  },
  {
   "cell_type": "code",
   "execution_count": 4,
   "id": "75e9879f",
   "metadata": {},
   "outputs": [],
   "source": [
    "spam = ['a','b','c','d']"
   ]
  },
  {
   "cell_type": "markdown",
   "id": "11648c8c",
   "metadata": {},
   "source": [
    "# 3. What is the value of spam[int(int('3' * 2) / 11)]?"
   ]
  },
  {
   "cell_type": "code",
   "execution_count": 5,
   "id": "938dd94b",
   "metadata": {},
   "outputs": [
    {
     "data": {
      "text/plain": [
       "'d'"
      ]
     },
     "execution_count": 5,
     "metadata": {},
     "output_type": "execute_result"
    }
   ],
   "source": [
    "spam[int(int('3' * 2) / 11)]"
   ]
  },
  {
   "cell_type": "markdown",
   "id": "8742fef6",
   "metadata": {},
   "source": [
    "from the this question spam[int(int('3' * 2) / 11)].\n",
    "\n",
    "    1. it will calculate inside one means --> '3'*2 => '33'\n",
    "    2. this '33' we are converting into integer before dividing with 11 --> int('3'*2) => 33\n",
    "    3. then we are dividing that integer 33 with 11 --> 33/11 => 3.0\n",
    "    4. now we are getting float value like 3.0 and then we are converting again into --> int(3.0) => 3\n",
    "    5. finally we are passing that value with spam --> spam[3] => 'd' ( it is seraching the 3 index level from defined spam list)"
   ]
  },
  {
   "cell_type": "markdown",
   "id": "7381a718",
   "metadata": {},
   "source": [
    "# 4. What is the value of spam[-1]?"
   ]
  },
  {
   "cell_type": "markdown",
   "id": "c9541573",
   "metadata": {},
   "source": [
    "1. spam[-1] means it search the index from last position. \n",
    "2. last postion index will starts with -1\n",
    "3. spam[-1] means it will give 'd'"
   ]
  },
  {
   "cell_type": "code",
   "execution_count": 7,
   "id": "394091c5",
   "metadata": {},
   "outputs": [
    {
     "data": {
      "text/plain": [
       "'d'"
      ]
     },
     "execution_count": 7,
     "metadata": {},
     "output_type": "execute_result"
    }
   ],
   "source": [
    "spam[-1]"
   ]
  },
  {
   "cell_type": "markdown",
   "id": "5327ead8",
   "metadata": {},
   "source": [
    "# 5. What is the value of spam[:2]?"
   ]
  },
  {
   "cell_type": "markdown",
   "id": "bf1fcd27",
   "metadata": {},
   "source": [
    "1. spam[:2] means it will give list of values from 0th postion to 1'st position.\n",
    "2. why because always last index range removes from condition like spam[:2] --> spam[0,1] => it gives ['a','b']\n",
    "   from the defined spam list"
   ]
  },
  {
   "cell_type": "code",
   "execution_count": 8,
   "id": "07c07575",
   "metadata": {},
   "outputs": [
    {
     "data": {
      "text/plain": [
       "['a', 'b']"
      ]
     },
     "execution_count": 8,
     "metadata": {},
     "output_type": "execute_result"
    }
   ],
   "source": [
    "spam[:2]"
   ]
  },
  {
   "cell_type": "markdown",
   "id": "b7598cc1",
   "metadata": {},
   "source": [
    "# Let's pretend bacon has the list [3.14, 'cat', 11, 'cat', True] for the next three questions."
   ]
  },
  {
   "cell_type": "code",
   "execution_count": 9,
   "id": "46d200e0",
   "metadata": {},
   "outputs": [],
   "source": [
    "bacon = [3.14, 'cat', 11, 'cat', True]"
   ]
  },
  {
   "cell_type": "markdown",
   "id": "13a3ef0e",
   "metadata": {},
   "source": [
    "# 6. What is the value of bacon.index('cat')?"
   ]
  },
  {
   "cell_type": "markdown",
   "id": "6b990343",
   "metadata": {},
   "source": [
    "1. bacon.index('cat') in the sense it will search that 'cat' value from starting index position.\n",
    "2. where ever it found that 'cat' value at first time -> it will give that index position"
   ]
  },
  {
   "cell_type": "code",
   "execution_count": 10,
   "id": "e0f776e5",
   "metadata": {},
   "outputs": [
    {
     "data": {
      "text/plain": [
       "1"
      ]
     },
     "execution_count": 10,
     "metadata": {},
     "output_type": "execute_result"
    }
   ],
   "source": [
    "bacon.index('cat') # in the first index postion of bacon we found first 'cat' values , that's why it returning 1 "
   ]
  },
  {
   "cell_type": "markdown",
   "id": "61046083",
   "metadata": {},
   "source": [
    "# 7. How does bacon.append(99) change the look of the list value in bacon?"
   ]
  },
  {
   "cell_type": "markdown",
   "id": "8afa35c0",
   "metadata": {},
   "source": [
    "1.  Here, for the above defind bacon list we are performing append operation.\n",
    "2.  Append menas it will add the new value 99 to bacon list at the last position"
   ]
  },
  {
   "cell_type": "code",
   "execution_count": 12,
   "id": "4fdd42f8",
   "metadata": {},
   "outputs": [
    {
     "data": {
      "text/plain": [
       "[3.14, 'cat', 11, 'cat', True]"
      ]
     },
     "execution_count": 12,
     "metadata": {},
     "output_type": "execute_result"
    }
   ],
   "source": [
    "bacon"
   ]
  },
  {
   "cell_type": "code",
   "execution_count": 13,
   "id": "a202c728",
   "metadata": {},
   "outputs": [],
   "source": [
    "bacon.append(99)"
   ]
  },
  {
   "cell_type": "code",
   "execution_count": 14,
   "id": "890013a2",
   "metadata": {},
   "outputs": [
    {
     "data": {
      "text/plain": [
       "[3.14, 'cat', 11, 'cat', True, 99]"
      ]
     },
     "execution_count": 14,
     "metadata": {},
     "output_type": "execute_result"
    }
   ],
   "source": [
    "bacon"
   ]
  },
  {
   "cell_type": "markdown",
   "id": "750e8f63",
   "metadata": {},
   "source": [
    "# 8. How does bacon.remove('cat') change the look of the list in bacon?"
   ]
  },
  {
   "cell_type": "code",
   "execution_count": 15,
   "id": "9e7a6d97",
   "metadata": {},
   "outputs": [
    {
     "data": {
      "text/plain": [
       "[3.14, 'cat', 11, 'cat', True, 99]"
      ]
     },
     "execution_count": 15,
     "metadata": {},
     "output_type": "execute_result"
    }
   ],
   "source": [
    "bacon"
   ]
  },
  {
   "cell_type": "markdown",
   "id": "05326458",
   "metadata": {},
   "source": [
    "1. from the above bacon list it will search where we have 'cat' value at first time.\n",
    "2. it will found and using remove operation it will remove the first 'cat' value only."
   ]
  },
  {
   "cell_type": "code",
   "execution_count": 16,
   "id": "3c721a5c",
   "metadata": {},
   "outputs": [],
   "source": [
    "bacon.remove('cat')"
   ]
  },
  {
   "cell_type": "code",
   "execution_count": 17,
   "id": "c7192ef4",
   "metadata": {},
   "outputs": [
    {
     "data": {
      "text/plain": [
       "[3.14, 11, 'cat', True, 99]"
      ]
     },
     "execution_count": 17,
     "metadata": {},
     "output_type": "execute_result"
    }
   ],
   "source": [
    "bacon"
   ]
  },
  {
   "cell_type": "markdown",
   "id": "ae2c3197",
   "metadata": {},
   "source": [
    "# 9. What are the list concatenation and list replication operators?"
   ]
  },
  {
   "cell_type": "markdown",
   "id": "cfe16be3",
   "metadata": {},
   "source": [
    "### Concatination : '+'\n",
    "    \n",
    "    1. concatination is nothing but extend the specific given data set\n",
    "    2. for concatination we are using '+'\n",
    "    3. concatination will applibale on only string, list , tuple\n",
    "    4. concatination won't work on set , dictionary\n",
    "    5. and concatination will work on same data types only.\n",
    "    6. if we try to apply concatination on two different data types it will through the error.\n",
    "    \n",
    "Examples :"
   ]
  },
  {
   "cell_type": "code",
   "execution_count": 19,
   "id": "2adcf1a0",
   "metadata": {},
   "outputs": [
    {
     "name": "stdout",
     "output_type": "stream",
     "text": [
      "Hai  Hello\n"
     ]
    }
   ],
   "source": [
    "# strings:\n",
    "     \n",
    "s1 = 'Hai '\n",
    "s2 = \" Hello\"\n",
    "\n",
    "s3 = s1+s2\n",
    "print(s3)"
   ]
  },
  {
   "cell_type": "code",
   "execution_count": 20,
   "id": "a9b076cf",
   "metadata": {},
   "outputs": [
    {
     "name": "stdout",
     "output_type": "stream",
     "text": [
      "[1, 2, 3, 3, 4, 5]\n"
     ]
    }
   ],
   "source": [
    "# list\n",
    "\n",
    "l1 = [1,2,3]\n",
    "l2 = [3,4,5]\n",
    "\n",
    "print(l1 + l2)"
   ]
  },
  {
   "cell_type": "code",
   "execution_count": 22,
   "id": "fa675658",
   "metadata": {},
   "outputs": [
    {
     "name": "stdout",
     "output_type": "stream",
     "text": [
      "(1, 2, 4, 5)\n"
     ]
    }
   ],
   "source": [
    "# tuple\n",
    "\n",
    "t1 = (1,2)\n",
    "t2 = (4,5)\n",
    "\n",
    "print(t1 + t2)"
   ]
  },
  {
   "cell_type": "markdown",
   "id": "6b56deaf",
   "metadata": {},
   "source": [
    "### Replication : *\n",
    "    \n",
    "    1. replication is nothing but give a multiple copy's of the specific given data set\n",
    "    2. for replication we are using '*'\n",
    "    3. replication will applibale on string, list , tuple, set, dictionary\n",
    "    4. and concatination will work on same data types only.\n",
    "    6. if we try to apply concatination on two different data types it will through the error.\n",
    "    \n",
    "Example :"
   ]
  },
  {
   "cell_type": "code",
   "execution_count": 24,
   "id": "f1898234",
   "metadata": {},
   "outputs": [
    {
     "name": "stdout",
     "output_type": "stream",
     "text": [
      "Good Good Good \n"
     ]
    }
   ],
   "source": [
    "# string\n",
    "\n",
    "s2 = \"Good \"\n",
    "print(s2*3)"
   ]
  },
  {
   "cell_type": "code",
   "execution_count": 25,
   "id": "169ec63b",
   "metadata": {},
   "outputs": [
    {
     "name": "stdout",
     "output_type": "stream",
     "text": [
      "[1, 2, 3, 1, 2, 3, 1, 2, 3]\n"
     ]
    }
   ],
   "source": [
    "# list \n",
    "\n",
    "l2 = [1,2,3]\n",
    "print(l2*3)"
   ]
  },
  {
   "cell_type": "code",
   "execution_count": 26,
   "id": "e4cec52a",
   "metadata": {},
   "outputs": [
    {
     "name": "stdout",
     "output_type": "stream",
     "text": [
      "(4, 5, 6, 4, 5, 6, 4, 5, 6, 4, 5, 6, 4, 5, 6)\n"
     ]
    }
   ],
   "source": [
    "# tuple\n",
    "\n",
    "t3 = (4,5,6)\n",
    "print(t3*5)"
   ]
  },
  {
   "cell_type": "markdown",
   "id": "ae68be65",
   "metadata": {},
   "source": [
    "# Note : \n",
    " 1. Here directly we canot able to perform replication on sets and dictionary's\n",
    " 2. for this we can use itertools module with repeat() function\n",
    " 3. we can able to perform this repeat opearation on string , list, tuple also\n"
   ]
  },
  {
   "cell_type": "code",
   "execution_count": 29,
   "id": "d7040c77",
   "metadata": {},
   "outputs": [
    {
     "name": "stdout",
     "output_type": "stream",
     "text": [
      "[{8, 9}, {8, 9}, {8, 9}]\n"
     ]
    }
   ],
   "source": [
    "# set\n",
    "import itertools\n",
    "s3 = {8,9}\n",
    "\n",
    "out = itertools.repeat(s3,times =3)\n",
    "print(list(out))"
   ]
  },
  {
   "cell_type": "code",
   "execution_count": 30,
   "id": "b943d004",
   "metadata": {},
   "outputs": [
    {
     "name": "stdout",
     "output_type": "stream",
     "text": [
      "[{'a': 'ineuron'}, {'a': 'ineuron'}, {'a': 'ineuron'}, {'a': 'ineuron'}, {'a': 'ineuron'}]\n"
     ]
    }
   ],
   "source": [
    "# dictionary\n",
    "d1 = {'a':\"ineuron\"}\n",
    "\n",
    "out1 = itertools.repeat(d1,times =5)\n",
    "print(list(out1))"
   ]
  },
  {
   "cell_type": "markdown",
   "id": "89c234aa",
   "metadata": {},
   "source": [
    "# 10. What is difference between the list methods append() and insert()?"
   ]
  },
  {
   "cell_type": "markdown",
   "id": "bbb7f086",
   "metadata": {},
   "source": [
    "### Append: \n",
    "    \n",
    "    1. append() operation will append or add the given values to end of the list only.\n",
    "    2. we can able to insert any datatype into the list means string, another list inside list, tuple, dictionary\n",
    "    \n",
    "Example : "
   ]
  },
  {
   "cell_type": "code",
   "execution_count": 34,
   "id": "f3a346b2",
   "metadata": {},
   "outputs": [
    {
     "name": "stdout",
     "output_type": "stream",
     "text": [
      "[4, 2, 3, 5, 100]\n"
     ]
    }
   ],
   "source": [
    "l1 = [4,2,3,5]\n",
    "l1.append(100)\n",
    "print(l1)"
   ]
  },
  {
   "cell_type": "code",
   "execution_count": 35,
   "id": "5bcf2f71",
   "metadata": {},
   "outputs": [
    {
     "name": "stdout",
     "output_type": "stream",
     "text": [
      "[4, 2, 3, 5, [20, 50]]\n"
     ]
    }
   ],
   "source": [
    "l1 = [4,2,3,5]\n",
    "l1.append([20,50])\n",
    "print(l1)"
   ]
  },
  {
   "cell_type": "markdown",
   "id": "8ac4bb03",
   "metadata": {},
   "source": [
    "### Insert :\n",
    "    \n",
    "    1. insert() operation will insert or add the values at specific given position.\n",
    "    2. we can able to insert any datatype into the list means string, another list inside list, tuple, dictionary\n",
    "\n",
    "    \n",
    "Example :"
   ]
  },
  {
   "cell_type": "code",
   "execution_count": 36,
   "id": "a89cc152",
   "metadata": {},
   "outputs": [
    {
     "name": "stdout",
     "output_type": "stream",
     "text": [
      "[4, 2, 'Hai', 7, 5]\n"
     ]
    }
   ],
   "source": [
    "l2 = [4,2,7,5]\n",
    "l2.insert(2,'Hai')\n",
    "print(l2)"
   ]
  },
  {
   "cell_type": "code",
   "execution_count": 38,
   "id": "cb3260ee",
   "metadata": {},
   "outputs": [
    {
     "name": "stdout",
     "output_type": "stream",
     "text": [
      "[4, 2, 7, {10, 20, 30}, 5]\n"
     ]
    }
   ],
   "source": [
    "l2 = [4,2,7,5]\n",
    "l2.insert(3,{10,20,30})\n",
    "print(l2)"
   ]
  },
  {
   "cell_type": "markdown",
   "id": "09403120",
   "metadata": {},
   "source": [
    "# 11. What are the two methods for removing items from a list?"
   ]
  },
  {
   "cell_type": "markdown",
   "id": "a43fe32f",
   "metadata": {},
   "source": [
    "we have three removing methods are there from the list:\n",
    "    \n",
    "    1. remove()\n",
    "    2. pop()\n",
    "    3. clear()"
   ]
  },
  {
   "cell_type": "markdown",
   "id": "dab7b8c3",
   "metadata": {},
   "source": [
    "### 1. remove() :\n",
    "\n",
    "    => remove() method is used for removing the given element which is exist from the list."
   ]
  },
  {
   "cell_type": "code",
   "execution_count": 39,
   "id": "80bb7dd5",
   "metadata": {},
   "outputs": [
    {
     "name": "stdout",
     "output_type": "stream",
     "text": [
      "[10, 20, 30, 50, 60]\n"
     ]
    }
   ],
   "source": [
    "l = [10,20,30,40,50,60]\n",
    "l.remove(40)\n",
    "print(l)"
   ]
  },
  {
   "cell_type": "markdown",
   "id": "44970788",
   "metadata": {},
   "source": [
    "### 2. pop():\n",
    "    \n",
    "    => pop() method is used for it will always removes the last element from the given list."
   ]
  },
  {
   "cell_type": "code",
   "execution_count": 41,
   "id": "1db43f44",
   "metadata": {},
   "outputs": [
    {
     "data": {
      "text/plain": [
       "[11, 22, 33, 44, 55, 66]"
      ]
     },
     "execution_count": 41,
     "metadata": {},
     "output_type": "execute_result"
    }
   ],
   "source": [
    "l = [11,22,33,44,55,66,77]\n",
    "l.pop()\n",
    "l"
   ]
  },
  {
   "cell_type": "markdown",
   "id": "7ffe3013",
   "metadata": {},
   "source": [
    "### 3. clear():\n",
    "    \n",
    "    => clear() method always removes or clear the entire elements from the given list."
   ]
  },
  {
   "cell_type": "code",
   "execution_count": 42,
   "id": "79490c62",
   "metadata": {},
   "outputs": [
    {
     "name": "stdout",
     "output_type": "stream",
     "text": [
      "[]\n"
     ]
    }
   ],
   "source": [
    "l = [3,4,5,10,33]\n",
    "l.clear()\n",
    "print(l)"
   ]
  },
  {
   "cell_type": "markdown",
   "id": "8246da26",
   "metadata": {},
   "source": [
    "# 12. Describe how list values and string values are identical."
   ]
  },
  {
   "cell_type": "markdown",
   "id": "be13a433",
   "metadata": {},
   "source": [
    "### Strings : \n",
    "    \n",
    "    1. string are immutable means unchangable.\n",
    "    2. string have same datatype means string always contains characters.\n",
    "    3. string come under sequence it contains numbers, letters and special characters.\n",
    "    4. we can define string with single quote ('') , double quote (\"\") or triple quote (''' ''')\n",
    "    5. string characters are always contains string data type\n",
    "    6. each element of the string can be accessed using indexing or slicing operation.\n",
    "    7. we can able to perform string extraction oprations\n",
    "    "
   ]
  },
  {
   "cell_type": "code",
   "execution_count": 43,
   "id": "e6a4d2bc",
   "metadata": {},
   "outputs": [
    {
     "name": "stdout",
     "output_type": "stream",
     "text": [
      "ineuron datascience@123\n"
     ]
    }
   ],
   "source": [
    "s = \"ineuron datascience@123\"\n",
    "print(s)"
   ]
  },
  {
   "cell_type": "code",
   "execution_count": 44,
   "id": "1913d917",
   "metadata": {},
   "outputs": [
    {
     "data": {
      "text/plain": [
       "'uron'"
      ]
     },
     "execution_count": 44,
     "metadata": {},
     "output_type": "execute_result"
    }
   ],
   "source": [
    "s[3:7]"
   ]
  },
  {
   "cell_type": "markdown",
   "id": "2a43c52a",
   "metadata": {},
   "source": [
    "### Lists :\n",
    "    \n",
    "    1. lists are mutable means changable.\n",
    "    2. list always supports multipe data type means we can store --\n",
    "          -- string,numbers,booleans, nested list, tuple, dictionary, sets\n",
    "    3. list we can difine with []\n",
    "    4. we can able access the elements in forward and backword direction also.\n",
    "    5. we can able to perform data manupulation operations on list like --\n",
    "         -- 1. insert()\n",
    "            2. delete()\n",
    "            3. update()\n",
    "            4. pop()\n",
    "            5. remove()\n",
    "            6. clear() .. etc\n",
    "            "
   ]
  },
  {
   "cell_type": "code",
   "execution_count": 47,
   "id": "c343982a",
   "metadata": {},
   "outputs": [
    {
     "name": "stdout",
     "output_type": "stream",
     "text": [
      "[1, 2, 3, 'hai', '@', [1, 2], {3, 4}, {'name': 'ineuron'}]\n"
     ]
    }
   ],
   "source": [
    "l = [1,2,3,'hai','@',[1,2],{3,4},{'name':\"ineuron\"}]\n",
    "print(l)"
   ]
  },
  {
   "cell_type": "code",
   "execution_count": 49,
   "id": "e5eafcf5",
   "metadata": {},
   "outputs": [
    {
     "data": {
      "text/plain": [
       "[[1, 2], {3, 4}, {'name': 'ineuron'}]"
      ]
     },
     "execution_count": 49,
     "metadata": {},
     "output_type": "execute_result"
    }
   ],
   "source": [
    "l[5:8]"
   ]
  },
  {
   "cell_type": "markdown",
   "id": "d9e5c0cf",
   "metadata": {},
   "source": [
    "# 13. What's the difference between tuples and lists?"
   ]
  },
  {
   "cell_type": "markdown",
   "id": "423e3d64",
   "metadata": {},
   "source": [
    "### Tuples:\n",
    "    \n",
    "    1. Tuples are immutable means unchangable.\n",
    "    2. Tuples are much faster compare to list\n",
    "    3. tuples occupies less memeory compare to list.\n",
    "    4. we cannot able to change the values using index positions.\n",
    "    5. tuple we can define with ()\n",
    "    6. tuple always supports multipe data type means we can store --\n",
    "          -- string,numbers,booleans, nested list, tuple, dictionary, sets\n",
    "    7. on tuples we can able to perform data access operations only"
   ]
  },
  {
   "cell_type": "code",
   "execution_count": 51,
   "id": "96678c48",
   "metadata": {},
   "outputs": [
    {
     "name": "stdout",
     "output_type": "stream",
     "text": [
      "(1, 2, 'hai', [1, 2], {1, 2}, {'name': 'hello'}, True)\n"
     ]
    }
   ],
   "source": [
    "t = (1,2,'hai',[1,2],{1,2},{\"name\":\"hello\"},True)\n",
    "print(t)"
   ]
  },
  {
   "cell_type": "code",
   "execution_count": 52,
   "id": "6d45a0f7",
   "metadata": {},
   "outputs": [
    {
     "data": {
      "text/plain": [
       "('hai', [1, 2], {1, 2}, {'name': 'hello'}, True)"
      ]
     },
     "execution_count": 52,
     "metadata": {},
     "output_type": "execute_result"
    }
   ],
   "source": [
    "t[2:10]"
   ]
  },
  {
   "cell_type": "markdown",
   "id": "3d7985c4",
   "metadata": {},
   "source": [
    "### Lists :\n",
    "    \n",
    "    1. lists are mutable means changable.\n",
    "    2. list always supports multipe data type means we can store --\n",
    "          -- string,numbers,booleans, nested list, tuple, dictionary, sets\n",
    "    3. list we can difine with []\n",
    "    4. we can able access the elements in forward and backword direction also.\n",
    "    5. we can able to perform data manupulation operations on list like --\n",
    "         -- 1. insert()\n",
    "            2. delete()\n",
    "            3. update()\n",
    "            4. pop()\n",
    "            5. remove()\n",
    "            6. clear() .. etc\n",
    "    6. lists are much slower compare to tuple\n",
    "    7. lists occupies more memeory compare to tuple.\n",
    "            "
   ]
  },
  {
   "cell_type": "code",
   "execution_count": 53,
   "id": "749cb7f7",
   "metadata": {},
   "outputs": [
    {
     "name": "stdout",
     "output_type": "stream",
     "text": [
      "[1, 2, 3, 'hai', '@', [1, 2], {3, 4}, {'name': 'ineuron'}]\n"
     ]
    }
   ],
   "source": [
    "l = [1,2,3,'hai','@',[1,2],{3,4},{'name':\"ineuron\"}]\n",
    "print(l)"
   ]
  },
  {
   "cell_type": "code",
   "execution_count": 54,
   "id": "ee3e50a7",
   "metadata": {},
   "outputs": [
    {
     "name": "stdout",
     "output_type": "stream",
     "text": [
      "[1, 2, 3, 'hai', '@', [1, 2], {3, 4}, {'name': 'ineuron'}, 10]\n"
     ]
    }
   ],
   "source": [
    "l.append(10)\n",
    "print(l)"
   ]
  },
  {
   "cell_type": "markdown",
   "id": "7100e236",
   "metadata": {},
   "source": [
    "# 14. How do you type a tuple value that only contains the integer 42?"
   ]
  },
  {
   "cell_type": "code",
   "execution_count": 57,
   "id": "b1b0a020",
   "metadata": {},
   "outputs": [
    {
     "data": {
      "text/plain": [
       "(42,)"
      ]
     },
     "execution_count": 57,
     "metadata": {},
     "output_type": "execute_result"
    }
   ],
   "source": [
    "(42,) # here , is manditory then only it will come into tuple"
   ]
  },
  {
   "cell_type": "code",
   "execution_count": 58,
   "id": "b377fbe2",
   "metadata": {},
   "outputs": [
    {
     "data": {
      "text/plain": [
       "42"
      ]
     },
     "execution_count": 58,
     "metadata": {},
     "output_type": "execute_result"
    }
   ],
   "source": [
    "# other wise it will consider normal integer\n",
    "(42)"
   ]
  },
  {
   "cell_type": "markdown",
   "id": "ff889cf0",
   "metadata": {},
   "source": [
    "# 15. How do you get a list value's tuple form? How do you get a tuple value's list form?"
   ]
  },
  {
   "cell_type": "markdown",
   "id": "2bb2043f",
   "metadata": {},
   "source": [
    "1. we can able to convert list[] value into tuple() form like below"
   ]
  },
  {
   "cell_type": "code",
   "execution_count": 63,
   "id": "31075c83",
   "metadata": {},
   "outputs": [
    {
     "name": "stdout",
     "output_type": "stream",
     "text": [
      "(1, 2, 3)\n",
      "<class 'tuple'>\n"
     ]
    }
   ],
   "source": [
    "l = [1,2,3]\n",
    "l1 = tuple(l)\n",
    "print(l1)\n",
    "print(type(l1))"
   ]
  },
  {
   "cell_type": "markdown",
   "id": "44e3ffdb",
   "metadata": {},
   "source": [
    "2. we can able to convert tuple() value into list[] form like below"
   ]
  },
  {
   "cell_type": "code",
   "execution_count": 64,
   "id": "57530b10",
   "metadata": {},
   "outputs": [
    {
     "name": "stdout",
     "output_type": "stream",
     "text": [
      "[1, 2, 3]\n",
      "<class 'list'>\n"
     ]
    }
   ],
   "source": [
    "t = (1,2,3)\n",
    "t1 = list(t)\n",
    "print(t1)\n",
    "print(type(t1))"
   ]
  },
  {
   "cell_type": "markdown",
   "id": "7488dfe2",
   "metadata": {},
   "source": [
    "# 16. Variables that \"contain\" list values are not necessarily lists themselves. Instead, what do they contain?"
   ]
  },
  {
   "cell_type": "markdown",
   "id": "bae78448",
   "metadata": {},
   "source": [
    "They contain reference to the list values"
   ]
  },
  {
   "cell_type": "markdown",
   "id": "c35ec303",
   "metadata": {},
   "source": [
    "# 17. How do you distinguish between copy.copy() and copy.deepcopy()?"
   ]
  },
  {
   "cell_type": "markdown",
   "id": "dddd73cd",
   "metadata": {},
   "source": [
    "### Shallow copy() : \n",
    "    \n",
    "    1. shallow copy() is nothing but we make copy of reference from old list to new list.\n",
    "    2. in shallow copy() - in old list if any new values will add automatically that new value will be add to new list also.\n",
    "    \n",
    "Example:\n",
    "    "
   ]
  },
  {
   "cell_type": "code",
   "execution_count": 71,
   "id": "2900e92c",
   "metadata": {},
   "outputs": [
    {
     "name": "stdout",
     "output_type": "stream",
     "text": [
      "[[1, 2, 3], [4, 5, 6], [7, 8, 9]]\n",
      "[[1, 2, 3], [4, 5, 6], [7, 8, 9]]\n"
     ]
    }
   ],
   "source": [
    "import copy\n",
    "\n",
    "l1 = [[1,2,3],[4,5,6],[7,8,9]]\n",
    "l2 = copy.copy(l1)\n",
    "\n",
    "print(l1)\n",
    "print(l2)"
   ]
  },
  {
   "cell_type": "code",
   "execution_count": 72,
   "id": "d732bef3",
   "metadata": {},
   "outputs": [
    {
     "name": "stdout",
     "output_type": "stream",
     "text": [
      "[[1, 2, 3], [4, 10, 6], [7, 8, 9]]\n",
      "[[1, 2, 3], [4, 10, 6], [7, 8, 9]]\n"
     ]
    }
   ],
   "source": [
    "l1[1][1] = 10\n",
    "\n",
    "print(l1)\n",
    "print(l2)"
   ]
  },
  {
   "cell_type": "markdown",
   "id": "3c92a608",
   "metadata": {},
   "source": [
    "### Deep copy() : \n",
    "    \n",
    "    1. deep copy() is nothing but we make copy of reference from old list to new list.\n",
    "    2. in deep copy() - in old list if we add any new element in new list that value will not copy ,\n",
    "        it have same copy as old   list .\n",
    "    \n",
    "Example:"
   ]
  },
  {
   "cell_type": "code",
   "execution_count": 73,
   "id": "e866758d",
   "metadata": {},
   "outputs": [
    {
     "name": "stdout",
     "output_type": "stream",
     "text": [
      "[[1, 2, 3], [4, 5, 6], [7, 8, 9]]\n",
      "[[1, 2, 3], [4, 5, 6], [7, 8, 9]]\n"
     ]
    }
   ],
   "source": [
    "l2 = [[1,2,3],[4,5,6],[7,8,9]]\n",
    "l3 = copy.deepcopy(l2)\n",
    "\n",
    "print(l2)\n",
    "print(l3)"
   ]
  },
  {
   "cell_type": "code",
   "execution_count": 74,
   "id": "4b334dcd",
   "metadata": {},
   "outputs": [
    {
     "name": "stdout",
     "output_type": "stream",
     "text": [
      "[[1, 2, 3], [4, 10, 6], [7, 8, 9]]\n",
      "[[1, 2, 3], [4, 5, 6], [7, 8, 9]]\n"
     ]
    }
   ],
   "source": [
    "l1[1][1] = 10\n",
    "\n",
    "print(l1)\n",
    "print(l2)"
   ]
  },
  {
   "cell_type": "code",
   "execution_count": null,
   "id": "1325d73d",
   "metadata": {},
   "outputs": [],
   "source": []
  }
 ],
 "metadata": {
  "kernelspec": {
   "display_name": "Python 3",
   "language": "python",
   "name": "python3"
  },
  "language_info": {
   "codemirror_mode": {
    "name": "ipython",
    "version": 3
   },
   "file_extension": ".py",
   "mimetype": "text/x-python",
   "name": "python",
   "nbconvert_exporter": "python",
   "pygments_lexer": "ipython3",
   "version": "3.8.8"
  }
 },
 "nbformat": 4,
 "nbformat_minor": 5
}
