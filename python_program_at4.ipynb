{
 "cells": [
  {
   "cell_type": "markdown",
   "id": "88e89aed",
   "metadata": {},
   "source": [
    "# 1. Write a Python Program to Find the Factorial of a Number?"
   ]
  },
  {
   "cell_type": "markdown",
   "id": "8bdf21e2",
   "metadata": {},
   "source": [
    "1. for Which number you want the factorial please give that number as input.\n",
    "2. factorial always starts from that's why we can define the starting of the factorial is 1.\n"
   ]
  },
  {
   "cell_type": "code",
   "execution_count": 1,
   "id": "153d38b8",
   "metadata": {},
   "outputs": [
    {
     "name": "stdout",
     "output_type": "stream",
     "text": [
      "Enter your integer : 10\n",
      " the factorial of given number 10 is :  3628800\n"
     ]
    }
   ],
   "source": [
    "number = int(input(\"Enter your integer : \"))\n",
    "\n",
    "factorial =1\n",
    "if number < 1:\n",
    "    \"\"\"then wrote the conditions like if number less than 1 obvious we doesnot have factorils.\"\"\"\n",
    "    print(\"Sorry, factorial does not exist for the negative numbers\")\n",
    "elif number ==0:\n",
    "    \"\"\"if the given number is 0 always for the factorial of 0 is 1\"\"\"\n",
    "    print(\"The factorial of number is 0 is 1\")\n",
    "else:\n",
    "    \"\"\"using for loop it will loop over for each range number multiply with the updated stored factorial number \"\"\"\n",
    "    for i in range(1,number+1):\n",
    "        factorial = factorial * i\n",
    "    print(f\" the factorial of given number {number} is : \",factorial)"
   ]
  },
  {
   "cell_type": "markdown",
   "id": "65788069",
   "metadata": {},
   "source": [
    "# 2. Write a Python Program to Display the multiplication Table?"
   ]
  },
  {
   "cell_type": "markdown",
   "id": "239dc2d4",
   "metadata": {},
   "source": [
    "1. Which table you want to print give that number while running the code.\n",
    "2. using for loop with in that give the range like table will start from 1 \n",
    "    and how many values you want to print 1,2,3,4,5,6,7,8,9,10 like - \n",
    "    \n",
    "    for example:\n",
    "       1. I want upto 10 so I given 11 why because range always cuts the last value it means-\n",
    "            range(1,11) -(1,2,3,4,5,6,7,8,9,10)\n",
    "       2. using for loop it will loop all the range values\n",
    "       3. it will multiply range value with given table number then it will give the result."
   ]
  },
  {
   "cell_type": "code",
   "execution_count": 2,
   "id": "f6ed5fc2",
   "metadata": {},
   "outputs": [
    {
     "name": "stdout",
     "output_type": "stream",
     "text": [
      "Enter the number for which table you want : 6\n",
      " 6 * 1 =  6\n",
      " 6 * 2 =  12\n",
      " 6 * 3 =  18\n",
      " 6 * 4 =  24\n",
      " 6 * 5 =  30\n",
      " 6 * 6 =  36\n",
      " 6 * 7 =  42\n",
      " 6 * 8 =  48\n",
      " 6 * 9 =  54\n",
      " 6 * 10 =  60\n"
     ]
    }
   ],
   "source": [
    "table = int(input(\"Enter the number for which table you want : \"))\n",
    "\n",
    "for i in range(1,11):\n",
    "    print(f\" {table} * {i} = \", table * i)"
   ]
  },
  {
   "cell_type": "markdown",
   "id": "b670b8ca",
   "metadata": {},
   "source": [
    "# 3. Write a Python Program to Print the Fibonacci sequence?"
   ]
  },
  {
   "cell_type": "markdown",
   "id": "6ce793d8",
   "metadata": {},
   "source": [
    "1. need to give any postive number\n",
    "2. we have to initialize the firstnumber is 0 and secondnumber is 1\n",
    "3. we have to take the temporary variable and if given number less than or equal to 1 then it will 0 \n",
    "    why because range will start from 0 if range will start from 1 then it will give 1.\n",
    "4. other wise \n",
    "        1. we can store summation of first value and second value in temporary variable.\n",
    "        2. second variable value we can store in first variable.\n",
    "        3. summation of temporary value we can store in second value.\n",
    "        4. then we can print that temporary value in each and every iteration."
   ]
  },
  {
   "cell_type": "code",
   "execution_count": 4,
   "id": "ad81d2b6",
   "metadata": {},
   "outputs": [
    {
     "name": "stdout",
     "output_type": "stream",
     "text": [
      "Enter the fibonacci number : 10\n",
      "0\n",
      "1\n",
      "1\n",
      "2\n",
      "3\n",
      "5\n",
      "8\n",
      "13\n",
      "21\n",
      "34\n"
     ]
    }
   ],
   "source": [
    "fibonacci = int(input(\"Enter the fibonacci number : \"))\n",
    "first_val = 0\n",
    "second_val =1\n",
    "for i in range(0,fibonacci):\n",
    "    if i<=1:\n",
    "        fib = i\n",
    "    else:\n",
    "        fib = first_val + second_val\n",
    "        first_val = second_val\n",
    "        second_val = fib\n",
    "    print(fib)"
   ]
  },
  {
   "cell_type": "markdown",
   "id": "da7202c3",
   "metadata": {},
   "source": [
    "# 4. Write a Python Program to Check Armstrong Number?"
   ]
  },
  {
   "cell_type": "markdown",
   "id": "2658c732",
   "metadata": {},
   "source": [
    "1. need to pass one number while running which is greater than 0.\n",
    "2. take the length of the given number why because using this we can able to test any digit.\n",
    "3. Armstrong number is nothing but:\n",
    "    1. 153 = 1\\*1\\*1+5\\*5\\*5+3\\*3\\*3 ==>153\n",
    "    2. 1634 = 1\\*1\\*1\\*1 + 6\\*6\\*6\\*6 + 3\\*3\\*3\\*3 + 4\\*4\\*4\\*4\n",
    "4. from the both examples  we multiplied each digit with length of the number and the summation of all that \n",
    "    1. if summation all that is equal to same as given number that is Armstrong number else not armstrong number\n",
    "    "
   ]
  },
  {
   "cell_type": "code",
   "execution_count": 5,
   "id": "a6dcadce",
   "metadata": {},
   "outputs": [
    {
     "name": "stdout",
     "output_type": "stream",
     "text": [
      "Enter the positive number which is greater than 0 : 153\n",
      "The given number 153 is an  Armstrong number\n"
     ]
    }
   ],
   "source": [
    "number = int(input(\"Enter the positive number which is greater than 0 : \"))\n",
    "# we storing the length of the given number in length variable\n",
    "length = len(str(number))\n",
    "\n",
    "# initializing the sum equal to 0\n",
    "sum =0\n",
    "# we are storing the given number in temporary variable\n",
    "temp =number\n",
    "\n",
    "while temp >0:\n",
    "    # we can divie the nummber with 10 and we can store that result in digit varaibale\n",
    "    digit = temp % 10\n",
    "    # for each time take the digit and calculate square root of that number do addition to the sum varaiable value\n",
    "    sum += digit ** length\n",
    "    # calculate the quotient of the number and this will continue still temporary variable is euual to 0\n",
    "    temp //= 10\n",
    "\n",
    "# we can check the summation variable value and given number if both are same it will give Armstrong number else not armstrong number\n",
    "if number == sum:\n",
    "    print(f\"The given number {number} is an  Armstrong number\")\n",
    "else:\n",
    "    print(f\"The given number {number} is not an Armstrong number\")\n",
    "        \n",
    "        "
   ]
  },
  {
   "cell_type": "markdown",
   "id": "c0154869",
   "metadata": {},
   "source": [
    "# 5. Write a Python Program to Find Armstrong Number in an Interval?"
   ]
  },
  {
   "cell_type": "markdown",
   "id": "207ad1da",
   "metadata": {},
   "source": [
    "1. need to give start range number and end range number while running.\n",
    "2. take the length of the given number why because using this we can able test any digit.\n",
    "3. Armstrong number is nothing but:\n",
    "    1. 153 = 1\\*1\\*1+5\\*5\\*5+3\\*3\\*3 ==>153\n",
    "    2. 1634 = 1\\*1\\*1\\*1 + 6\\*6\\*6\\*6 + 3\\*3\\*3\\*3 + 4\\*4\\*4\\*4\n",
    "4. from the both examples  we multiplied each digit with length of the number and the summation of all that \n",
    "    1. if summation all that is equal to same as given number that is Armstrong number else not armstrong number\n",
    "5. all these steps run for each number in the given range and check iw have any armstrong , \n",
    "    it will print othersie it will excluse that number\n",
    "    "
   ]
  },
  {
   "cell_type": "code",
   "execution_count": 6,
   "id": "fe816599",
   "metadata": {},
   "outputs": [
    {
     "name": "stdout",
     "output_type": "stream",
     "text": [
      "enter the start range number from which number you want : 10\n",
      "enter the end range number to  which number you want : 1000\n",
      "153\n",
      "370\n",
      "371\n",
      "407\n"
     ]
    }
   ],
   "source": [
    "start = int(input(\"enter the start range number from which number you want : \"))\n",
    "end = int(input(\"enter the end range number to  which number you want : \"))\n",
    "\n",
    "for num in range(start,end+1):\n",
    "    # we storing the length of the given number in length variable\n",
    "    length = len(str(num))\n",
    "\n",
    "    # initializing the sum equal to 0\n",
    "    sum =0\n",
    "    # we are storing the given number in temporary variable\n",
    "    temp =num\n",
    "    while temp >0:\n",
    "        # we can divie the nummber with 10 and we can store that result in digit varaibale\n",
    "        digit = temp % 10\n",
    "        # for each time take the digit and calculate square root of that number do addition to the sum varaiable value\n",
    "        sum += digit ** length\n",
    "        # calculate the quotient of the number and this will continue still temporary variable is euual to 0\n",
    "        temp //= 10\n",
    "\n",
    "    # we can check the summation variable value and given number if both are same it will give Armstrong number \n",
    "    if num == sum:\n",
    "        print(num)\n",
    "    \n"
   ]
  },
  {
   "cell_type": "markdown",
   "id": "0130f6fc",
   "metadata": {},
   "source": [
    "# 6. Write a Python Program to Find the Sum of Natural Numbers?"
   ]
  },
  {
   "cell_type": "markdown",
   "id": "6a62e3b8",
   "metadata": {},
   "source": [
    "1. Sum of natural numbers is nothing but if I given the natural number is :\n",
    "      6 => 6\\+5\\+4\\+3\\+2\\+1 => 21\n",
    "\n",
    "2. it means which number i given it will take that number and add to summation then it will reduce the one by one number and\n",
    "   add to summation of each number until number equal to 0.\n",
    "        "
   ]
  },
  {
   "cell_type": "code",
   "execution_count": 7,
   "id": "6828187a",
   "metadata": {},
   "outputs": [
    {
     "name": "stdout",
     "output_type": "stream",
     "text": [
      "Enter the positive number : 25\n",
      "The natural numbers are in a given range :\n",
      "25\n",
      "24\n",
      "23\n",
      "22\n",
      "21\n",
      "20\n",
      "19\n",
      "18\n",
      "17\n",
      "16\n",
      "15\n",
      "14\n",
      "13\n",
      "12\n",
      "11\n",
      "10\n",
      "9\n",
      "8\n",
      "7\n",
      "6\n",
      "5\n",
      "4\n",
      "3\n",
      "2\n",
      "1\n",
      "The summation of total given natural numbers is :  325\n"
     ]
    }
   ],
   "source": [
    "number  = int(input(\"Enter the positive number : \"))\n",
    "\n",
    "total =0\n",
    "# here we are checking the given number is greater than 0 or not if not it will print the message. if yes it will go to else condition\n",
    "if number <0:\n",
    "    print(\"please enter positive number and that should be greater than zero\")\n",
    "else:\n",
    "    print(f\"The natural numbers are in a given range :\")\n",
    "    # it will runnout the loop until the number is equal to 0\n",
    "    while number > 0:\n",
    "        # each number it will add to summation\n",
    "        total =total+number\n",
    "        print(f\"{number}\")\n",
    "        # for each iteration after summation it will reduce the number add that number to updated summation value\n",
    "        number = number-1\n",
    "        \n",
    "# finally the updated summation it will print\n",
    "print(\"The summation of total given natural numbers is : \", total)"
   ]
  },
  {
   "cell_type": "code",
   "execution_count": null,
   "id": "dea7edd1",
   "metadata": {},
   "outputs": [],
   "source": []
  }
 ],
 "metadata": {
  "kernelspec": {
   "display_name": "Python 3",
   "language": "python",
   "name": "python3"
  },
  "language_info": {
   "codemirror_mode": {
    "name": "ipython",
    "version": 3
   },
   "file_extension": ".py",
   "mimetype": "text/x-python",
   "name": "python",
   "nbconvert_exporter": "python",
   "pygments_lexer": "ipython3",
   "version": "3.8.8"
  }
 },
 "nbformat": 4,
 "nbformat_minor": 5
}
